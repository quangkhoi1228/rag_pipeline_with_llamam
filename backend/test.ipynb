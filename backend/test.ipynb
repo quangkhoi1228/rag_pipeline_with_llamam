{
 "cells": [
  {
   "cell_type": "code",
   "execution_count": 3,
   "metadata": {},
   "outputs": [],
   "source": [
    "import pandas as pd"
   ]
  },
  {
   "cell_type": "code",
   "execution_count": 6,
   "metadata": {},
   "outputs": [
    {
     "name": "stdout",
     "output_type": "stream",
     "text": [
      "['./features/p0-9999', './features/p10000-19999', './features/p20000-29999', './features/p30000-39999', './features/p50000-59999', './features/p60000-69999', './features/p70000-79999']\n"
     ]
    }
   ],
   "source": [
    "from glob import glob\n",
    "\n",
    "folders = glob(\"./features/*\")\n",
    "folders.sort()\n",
    "folders\n",
    "\n",
    "print(folders)"
   ]
  },
  {
   "cell_type": "code",
   "execution_count": 10,
   "metadata": {},
   "outputs": [],
   "source": [
    "\n",
    "df = pd.read_parquet(f\"./features/p70000-79999/encoded_data.parquet\")"
   ]
  },
  {
   "cell_type": "code",
   "execution_count": 11,
   "metadata": {},
   "outputs": [
    {
     "data": {
      "text/plain": [
       "0       https://thuvienphapluat.vn/van-ban/Cong-nghe-t...\n",
       "1       https://thuvienphapluat.vn/van-ban/Bo-may-hanh...\n",
       "2       https://thuvienphapluat.vn/van-ban/The-thao-Y-...\n",
       "3       https://thuvienphapluat.vn/van-ban/Linh-vuc-kh...\n",
       "4       https://thuvienphapluat.vn/van-ban/Cong-nghe-t...\n",
       "                              ...                        \n",
       "9991    https://thuvienphapluat.vn/van-ban/Bo-may-hanh...\n",
       "9992    https://thuvienphapluat.vn/van-ban/Van-hoa-Xa-...\n",
       "9993    https://thuvienphapluat.vn/van-ban/Van-hoa-Xa-...\n",
       "9994    https://thuvienphapluat.vn/van-ban/Bat-dong-sa...\n",
       "9995    https://thuvienphapluat.vn/van-ban/The-thao-Y-...\n",
       "Name: url, Length: 9996, dtype: object"
      ]
     },
     "execution_count": 11,
     "metadata": {},
     "output_type": "execute_result"
    }
   ],
   "source": [
    "df['url']"
   ]
  },
  {
   "cell_type": "code",
   "execution_count": null,
   "metadata": {},
   "outputs": [],
   "source": []
  }
 ],
 "metadata": {
  "kernelspec": {
   "display_name": "rag_prj",
   "language": "python",
   "name": "python3"
  },
  "language_info": {
   "codemirror_mode": {
    "name": "ipython",
    "version": 3
   },
   "file_extension": ".py",
   "mimetype": "text/x-python",
   "name": "python",
   "nbconvert_exporter": "python",
   "pygments_lexer": "ipython3",
   "version": "3.10.14"
  }
 },
 "nbformat": 4,
 "nbformat_minor": 2
}
