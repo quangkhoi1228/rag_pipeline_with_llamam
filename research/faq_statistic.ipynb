{
 "cells": [
  {
   "cell_type": "code",
   "execution_count": 9,
   "metadata": {},
   "outputs": [
    {
     "name": "stderr",
     "output_type": "stream",
     "text": [
      "Fetching 30 files: 100%|██████████| 30/30 [00:00<00:00, 83110.38it/s]\n",
      "/Volumes/home/Learn/Master/3.LLMs/rag_pipeline/.venv/lib/python3.11/site-packages/FlagEmbedding/BGE_M3/modeling.py:335: FutureWarning: You are using `torch.load` with `weights_only=False` (the current default value), which uses the default pickle module implicitly. It is possible to construct malicious pickle data which will execute arbitrary code during unpickling (See https://github.com/pytorch/pytorch/blob/main/SECURITY.md#untrusted-models for more details). In a future release, the default value for `weights_only` will be flipped to `True`. This limits the functions that could be executed during unpickling. Arbitrary objects will no longer be allowed to be loaded via this mode unless they are explicitly allowlisted by the user via `torch.serialization.add_safe_globals`. We recommend you start setting `weights_only=True` for any use case where you don't have full control of the loaded file. Please open an issue on GitHub for any issues related to this experimental feature.\n",
      "  colbert_state_dict = torch.load(os.path.join(model_dir, 'colbert_linear.pt'), map_location='cpu')\n",
      "/Volumes/home/Learn/Master/3.LLMs/rag_pipeline/.venv/lib/python3.11/site-packages/FlagEmbedding/BGE_M3/modeling.py:336: FutureWarning: You are using `torch.load` with `weights_only=False` (the current default value), which uses the default pickle module implicitly. It is possible to construct malicious pickle data which will execute arbitrary code during unpickling (See https://github.com/pytorch/pytorch/blob/main/SECURITY.md#untrusted-models for more details). In a future release, the default value for `weights_only` will be flipped to `True`. This limits the functions that could be executed during unpickling. Arbitrary objects will no longer be allowed to be loaded via this mode unless they are explicitly allowlisted by the user via `torch.serialization.add_safe_globals`. We recommend you start setting `weights_only=True` for any use case where you don't have full control of the loaded file. Please open an issue on GitHub for any issues related to this experimental feature.\n",
      "  sparse_state_dict = torch.load(os.path.join(model_dir, 'sparse_linear.pt'), map_location='cpu')\n"
     ]
    }
   ],
   "source": [
    "from pymilvus.model.hybrid import BGEM3EmbeddingFunction\n",
    "\n",
    "bge_m3_ef = BGEM3EmbeddingFunction(\n",
    "    model_name='BAAI/bge-m3', # Specify the model name\n",
    "    device='cpu', # Specify the device to use, e.g., 'cpu' or 'cuda:0'\n",
    "    use_fp16=False # Specify whether to use fp16. Set to `False` if `device` is `cpu`.\n",
    ")"
   ]
  },
  {
   "cell_type": "code",
   "execution_count": 38,
   "metadata": {},
   "outputs": [],
   "source": [
    "\n",
    "\n",
    "# Sample list of user questions\n",
    "questions = [\n",
    "  \"Môn LLMs là gì\",\n",
    "  \"LLMs là gì\",\n",
    "  \"LLMs là gì\",\n",
    "  \"Tôi yêu em\",\n",
    "  \"Quyết định 720/QD là gì\",\n",
    "  \"Quyết định 720/QD là gì\",\n",
    "  \"Tôi yêu em 2 \",\n",
    "  \"Tôi yêu em 1 \",\n",
    "  \"Về quê\",\n",
    "]\n"
   ]
  },
  {
   "cell_type": "code",
   "execution_count": 39,
   "metadata": {},
   "outputs": [
    {
     "data": {
      "text/plain": [
       "[array([-0.05957006, -0.00632895,  0.00017413, ..., -0.02647903,\n",
       "         0.02866971,  0.0089296 ], dtype=float32),\n",
       " array([-0.05699976,  0.00230403, -0.00491013, ..., -0.03240288,\n",
       "         0.02586637, -0.01955773], dtype=float32),\n",
       " array([-0.05699976,  0.00230403, -0.00491013, ..., -0.03240288,\n",
       "         0.02586637, -0.01955773], dtype=float32),\n",
       " array([-0.03436313,  0.02690836,  0.0076879 , ...,  0.01527704,\n",
       "        -0.03743364,  0.01111926], dtype=float32),\n",
       " array([-0.0662417 ,  0.0052552 , -0.04709236, ...,  0.00295948,\n",
       "        -0.00513929,  0.00804098], dtype=float32),\n",
       " array([-0.0662417 ,  0.0052552 , -0.04709236, ...,  0.00295948,\n",
       "        -0.00513929,  0.00804098], dtype=float32),\n",
       " array([-0.04328745,  0.03382189, -0.02346097, ...,  0.00878489,\n",
       "         0.00476081,  0.00414527], dtype=float32),\n",
       " array([-0.01308461,  0.04014356, -0.03755165, ...,  0.01810496,\n",
       "        -0.01469993,  0.00990661], dtype=float32),\n",
       " array([-0.01872098,  0.04591058, -0.00974179, ..., -0.01723756,\n",
       "        -0.0101496 ,  0.01541744], dtype=float32)]"
      ]
     },
     "execution_count": 39,
     "metadata": {},
     "output_type": "execute_result"
    }
   ],
   "source": [
    "question_embeddings = bge_m3_ef.encode_documents(questions)[\"dense\"]\n",
    "question_embeddings"
   ]
  },
  {
   "cell_type": "code",
   "execution_count": 44,
   "metadata": {},
   "outputs": [
    {
     "name": "stdout",
     "output_type": "stream",
     "text": [
      "{'0': ['Môn LLMs là gì', 'LLMs là gì'], '1': ['Tôi yêu em', 'Tôi yêu em 2 ', 'Tôi yêu em 1 '], '2': ['Quyết định 720/QD là gì'], '-1': ['Về quê']}\n"
     ]
    }
   ],
   "source": [
    "from sklearn.cluster import DBSCAN\n",
    "\n",
    "# Create a DBSCAN clustering model\n",
    "clustering_model = DBSCAN(eps=0.5, min_samples=2, metric='cosine')\n",
    "\n",
    "# Fit the model and predict the cluster for each question\n",
    "cluster_labels = clustering_model.fit_predict(question_embeddings)\n",
    "\n",
    "cluster_dict = {}\n",
    "# Print out the clusters\n",
    "for i, cluster in enumerate(cluster_labels):\n",
    "    key = str(cluster)\n",
    "    if key not in cluster_dict:\n",
    "        cluster_dict[key] = []\n",
    "    \n",
    "    if questions[i] not in  cluster_dict[key]:\n",
    "        cluster_dict[key].append(questions[i])\n",
    "\n",
    "print(cluster_dict)\n",
    "\n"
   ]
  },
  {
   "cell_type": "code",
   "execution_count": 46,
   "metadata": {},
   "outputs": [],
   "source": [
    "from langchain_community.llms import Ollama\n",
    "\n",
    "# Step 4: Initialize LLaMA LLM via Ollama\n",
    "# freeze\n",
    "llm = Ollama(model=\"llama3.1:latest\")\n",
    "# llm = Ollama(model=\"llama3.1:70b\")\n"
   ]
  },
  {
   "cell_type": "code",
   "execution_count": 117,
   "metadata": {},
   "outputs": [],
   "source": [
    "prompt = '''\n",
    "You are an assistant for decision tasks and JSON extraction. Always respond in JSON format.Do not provide any explanations or text outside the JSON structure.\n",
    "Look all of questions: {questions}\n",
    "Return  JSON response object not array json strict only JSON format follow example: \n",
    "{{\"valid\":  true, if all questions related to law else false, \"question\": the present question}}\n",
    "'''"
   ]
  },
  {
   "cell_type": "code",
   "execution_count": 118,
   "metadata": {},
   "outputs": [],
   "source": [
    "def question_llm(questions):\n",
    "  prompt_formatted = prompt.format(questions=questions)\n",
    "  res = llm.invoke(prompt_formatted)\n",
    "\n",
    "  # print(prompt_formatted)\n",
    "  print(res)"
   ]
  },
  {
   "cell_type": "code",
   "execution_count": 120,
   "metadata": {},
   "outputs": [
    {
     "name": "stdout",
     "output_type": "stream",
     "text": [
      "{\n",
      "  \"valid\": true,\n",
      "  \"question\": \"Môn LLMs là gì\"\n",
      "}\n",
      "\n",
      "{\n",
      "  \"valid\": true,\n",
      "  \"question\": \"LLMs là gì\"\n",
      "}\n",
      "{\n",
      "  \"valid\": true,\n",
      "  \"question\": \"Tôi yêu em\"\n",
      "}\n",
      "{\n",
      "  \"valid\": true,\n",
      "  \"question\": \"Quyết định 720/QD là gì\"\n",
      "}\n",
      "{\n",
      "  \"valid\": false,\n",
      "  \"question\": \"Về quê\"\n",
      "}\n"
     ]
    }
   ],
   "source": [
    "for cluster in cluster_dict.values():\n",
    "  # print(cluster)\n",
    "  res = question_llm(cluster)\n",
    "  res"
   ]
  },
  {
   "cell_type": "code",
   "execution_count": null,
   "metadata": {},
   "outputs": [],
   "source": []
  }
 ],
 "metadata": {
  "kernelspec": {
   "display_name": ".venv",
   "language": "python",
   "name": "python3"
  },
  "language_info": {
   "codemirror_mode": {
    "name": "ipython",
    "version": 3
   },
   "file_extension": ".py",
   "mimetype": "text/x-python",
   "name": "python",
   "nbconvert_exporter": "python",
   "pygments_lexer": "ipython3",
   "version": "3.11.2"
  }
 },
 "nbformat": 4,
 "nbformat_minor": 2
}
