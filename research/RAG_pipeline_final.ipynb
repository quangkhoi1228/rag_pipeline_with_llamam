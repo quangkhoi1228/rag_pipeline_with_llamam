{
 "cells": [
  {
   "cell_type": "markdown",
   "metadata": {},
   "source": [
    "# RAG pipeline"
   ]
  },
  {
   "cell_type": "code",
   "execution_count": 1,
   "metadata": {},
   "outputs": [],
   "source": [
    "from langchain_community.llms import Ollama\n",
    "from langchain.chains import RetrievalQA\n",
    "from langchain.text_splitter import CharacterTextSplitter\n",
    "from langchain.document_loaders import CSVLoader\n",
    "from langchain.vectorstores import FAISS\n",
    "import pandas as pd\n",
    "import psycopg2\n",
    "from langchain_huggingface import HuggingFaceEmbeddings\n"
   ]
  },
  {
   "cell_type": "code",
   "execution_count": 2,
   "metadata": {},
   "outputs": [],
   "source": [
    "# Step 4: Initialize LLaMA LLM via Ollama\n",
    "# freeze\n",
    "llm = Ollama(model=\"llama3.1:latest\")\n",
    "# llm = Ollama(model=\"llama3.1:70b\")\n"
   ]
  },
  {
   "cell_type": "code",
   "execution_count": 5,
   "metadata": {},
   "outputs": [
    {
     "name": "stderr",
     "output_type": "stream",
     "text": [
      "/Volumes/home/Learn/Master/3.LLMs/rag_pipeline/.venv/lib/python3.11/site-packages/tqdm/auto.py:21: TqdmWarning: IProgress not found. Please update jupyter and ipywidgets. See https://ipywidgets.readthedocs.io/en/stable/user_install.html\n",
      "  from .autonotebook import tqdm as notebook_tqdm\n",
      "Fetching 30 files: 100%|██████████| 30/30 [00:00<00:00, 56400.32it/s]\n",
      "/Volumes/home/Learn/Master/3.LLMs/rag_pipeline/.venv/lib/python3.11/site-packages/FlagEmbedding/BGE_M3/modeling.py:335: FutureWarning: You are using `torch.load` with `weights_only=False` (the current default value), which uses the default pickle module implicitly. It is possible to construct malicious pickle data which will execute arbitrary code during unpickling (See https://github.com/pytorch/pytorch/blob/main/SECURITY.md#untrusted-models for more details). In a future release, the default value for `weights_only` will be flipped to `True`. This limits the functions that could be executed during unpickling. Arbitrary objects will no longer be allowed to be loaded via this mode unless they are explicitly allowlisted by the user via `torch.serialization.add_safe_globals`. We recommend you start setting `weights_only=True` for any use case where you don't have full control of the loaded file. Please open an issue on GitHub for any issues related to this experimental feature.\n",
      "  colbert_state_dict = torch.load(os.path.join(model_dir, 'colbert_linear.pt'), map_location='cpu')\n",
      "/Volumes/home/Learn/Master/3.LLMs/rag_pipeline/.venv/lib/python3.11/site-packages/FlagEmbedding/BGE_M3/modeling.py:336: FutureWarning: You are using `torch.load` with `weights_only=False` (the current default value), which uses the default pickle module implicitly. It is possible to construct malicious pickle data which will execute arbitrary code during unpickling (See https://github.com/pytorch/pytorch/blob/main/SECURITY.md#untrusted-models for more details). In a future release, the default value for `weights_only` will be flipped to `True`. This limits the functions that could be executed during unpickling. Arbitrary objects will no longer be allowed to be loaded via this mode unless they are explicitly allowlisted by the user via `torch.serialization.add_safe_globals`. We recommend you start setting `weights_only=True` for any use case where you don't have full control of the loaded file. Please open an issue on GitHub for any issues related to this experimental feature.\n",
      "  sparse_state_dict = torch.load(os.path.join(model_dir, 'sparse_linear.pt'), map_location='cpu')\n"
     ]
    }
   ],
   "source": [
    "from pymilvus.model.hybrid import BGEM3EmbeddingFunction\n",
    "\n",
    "bge_m3_ef = BGEM3EmbeddingFunction(\n",
    "    model_name='BAAI/bge-m3', # Specify the model name\n",
    "    device='cpu', # Specify the device to use, e.g., 'cpu' or 'cuda:0'\n",
    "    use_fp16=False # Specify whether to use fp16. Set to `False` if `device` is `cpu`.\n",
    ")"
   ]
  },
  {
   "cell_type": "markdown",
   "metadata": {},
   "source": [
    "## Milvus standalone"
   ]
  },
  {
   "cell_type": "code",
   "execution_count": 1,
   "metadata": {},
   "outputs": [],
   "source": [
    "from pymilvus import MilvusClient\n",
    "\n",
    "client = MilvusClient(\n",
    "    uri=\"http://localhost:19530\"\n",
    ")"
   ]
  },
  {
   "cell_type": "code",
   "execution_count": 5,
   "metadata": {},
   "outputs": [],
   "source": [
    "# if client.has_collection(collection_name=\"demo_collection\"):\n",
    "#     client.drop_collection(collection_name=\"demo_collection\")\n",
    "# client.create_collection(\n",
    "#         collection_name=\"demo_collection\",\n",
    "#         dimension=1024,  # The vectors we will use in this demo has 768 dimensions\n",
    "# )\n"
   ]
  },
  {
   "cell_type": "code",
   "execution_count": 6,
   "metadata": {},
   "outputs": [
    {
     "name": "stdout",
     "output_type": "stream",
     "text": [
      "file_name Văn Bản Pháp Luật_p100000-100019.parquet\n",
      "{'insert_count': 20, 'ids': [100000, 100001, 100002, 100003, 100004, 100005, 100006, 100007, 100008, 100009, 100010, 100011, 100012, 100013, 100014, 100015, 100016, 100017, 100018, 100019]}\n",
      "Data inserted successfully!\n"
     ]
    }
   ],
   "source": [
    "import os\n",
    "import pandas as pd\n",
    "\n",
    "# Đường dẫn đến thư mục \"Khoi\"\n",
    "folder_path = '../Khoi'\n",
    "\n",
    "# Danh sách lưu trữ các DataFrame\n",
    "df_list = []\n",
    "\n",
    "# Duyệt qua tất cả các file trong thư mục\n",
    "# for file_name in os.listdir('Khoi'):\n",
    "for file_name in ['Văn Bản Pháp Luật_p100000-100019.parquet']:\n",
    "    # Kiểm tra nếu file có định dạng giống \"Văn Bản Pháp Luật_p*.parquet\"\n",
    "    print(\"file_name\", file_name)\n",
    "    file_path = os.path.join(folder_path, file_name)\n",
    "    \n",
    "    # Đọc file Parquet và thêm vào danh sách DataFrame\n",
    "    file_df = pd.read_parquet(file_path)\n",
    "    \n",
    "    # Thực hiện các chuyển đổi tương tự như bạn đã đề cập\n",
    "    file_df['created_date'] = pd.to_datetime(file_df['created_date'], format='%d/%m/%Y')\n",
    "    file_df['updated_date'] = pd.to_datetime(file_df['updated_date'], format='%d/%m/%Y')\n",
    "    file_df['content_raw'] = file_df['content'].apply(lambda x: x.decode('utf-8') if isinstance(x, bytes) else x)\n",
    "    \n",
    "    # df_list.append(file_df)\n",
    "    \n",
    "    \n",
    "\n",
    "    # connection = create_connection()\n",
    "\n",
    "    # cursor = connection.cursor()\n",
    "\n",
    "    try: \n",
    "        # Chèn dữ liệu từ DataFrame vào PostgreSQL\n",
    "        \n",
    "        data = []\n",
    "        for index, item in file_df.iterrows():\n",
    "            docs= [f\"{item.title}\"]\n",
    "            \n",
    "            docs_embeddings = bge_m3_ef.encode_documents(docs)\n",
    "\n",
    "            vectors = docs_embeddings[\"dense\"]\n",
    "\n",
    "        \n",
    "            data.append({\"id\": item.id, \"vector\": vectors[0], \"text\": docs[0], \"subject\": \"van_ban_phap_luat\"} )\n",
    "        \n",
    "        res = client.insert(collection_name=\"demo_collection\", data=data)\n",
    "        print(res)\n",
    "        \n",
    "        # Xác nhận các thay đổi vào cơ sở dữ liệu\n",
    "        # connection.commit()\n",
    "\n",
    "    except Exception as e:\n",
    "        print(e)\n",
    "\n",
    "    # Đóng kết nối\n",
    "    # cursor.close()\n",
    "    # connection.close()\n",
    "\n",
    "    print(\"Data inserted successfully!\")\n",
    "\n",
    "\n",
    "# # Nối tất cả các DataFrame lại với nhau thành một DataFrame duy nhất\n",
    "# combined_df = pd.concat(df_list, ignore_index=True)\n",
    "\n",
    "# # Hiển thị vài dòng đầu tiên của DataFrame\n",
    "# combined_df.head()"
   ]
  },
  {
   "cell_type": "code",
   "execution_count": 7,
   "metadata": {},
   "outputs": [
    {
     "name": "stdout",
     "output_type": "stream",
     "text": [
      "{'id': 100000, 'text': 'Quyết định 720/QĐ-CTN năm 2020 về cho thôi quốc tịch Việt Nam đối với 95 công dân hiện đang cư trú tại Đức do Chủ tịch nước ban hành'}\n",
      "{'id': 100001, 'text': 'Quyết định 719/QĐ-CTN năm 2020 về cho thôi quốc tịch Việt Nam đối với 15 công dân hiện đang cư trú tại Hồng Kông (Trung Quốc) do Chủ tịch nước ban hành'}\n",
      "{'id': 100002, 'text': 'Quyết định 648/QĐ-TTg năm 2020 về phê duyệt nhiệm vụ lập quy hoạch mạng lưới cơ sở y tế thời kỳ 2021-2030, tầm nhìn đến năm 2045 do Thủ tướng Chính phủ ban hành'}\n",
      "{'id': 100003, 'text': 'Quyết định 1000/QĐ-UBND năm 2020 công bố danh mục thủ tục hành chính thuộc phạm vi chức năng quản lý nhà nước của Sở Công thương tỉnh Sơn La'}\n",
      "{'id': 100004, 'text': 'Quyết định 1517/QĐ-UBND năm 2020 về công bố Danh mục và Quy trình nội bộ thủ tục hành chính được sửa đổi, bổ sung thuộc thẩm quyền quản lý của ngành Xây dựng áp dụng tại Ủy ban nhân dân cấp huyện trên địa bàn tỉnh Hà Tĩnh'}\n",
      "{'id': 100005, 'text': 'Quyết định 647/QĐ-TTg năm 2020 về phê duyệt Đề án hợp tác quốc tế về phát triển bền vững kinh tế biển Việt Nam đến 2030 do Thủ tướng Chính phủ ban hành'}\n",
      "{'id': 100006, 'text': 'Quyết định 949/QĐ-BGTVT năm 2020 công bố thủ tục hành chính được sửa đổi, bổ sung lĩnh vực hàng không thuộc phạm vi chức năng quản lý của Bộ Giao thông vận tải'}\n",
      "{'id': 100007, 'text': 'Quyết định 579/QĐ-TCCB về Kế hoạch thi và chỉ tiêu thi nâng ngạch lên chuyên viên, chuyên viên chính năm 2020 do Chánh án Tòa án nhân dân tối cao ban hành'}\n",
      "{'id': 100008, 'text': 'Quyết định 649/QĐ-TTg năm 2020 về phê duyệt chủ trương đầu tư Dự án đầu tư xây dựng tuyến đường bộ ven biển đoạn Hoằng Hóa - Sầm Sơn và đoạn Quảng Xương - Tĩnh Gia, tỉnh Thanh Hóa theo hình thức đối tác công tư, hợp đồng BOT do Thủ tướng Chính phủ ban hành'}\n",
      "{'id': 100009, 'text': 'Quyết định 13/2020/QĐ-UBND bãi bỏ Quyết định 10/2015/QĐ-UBND quy định về chính sách hỗ trợ doanh nghiệp xuất khẩu phần mềm trên địa bàn thành phố Đà Nẵng'}\n",
      "{'id': 100010, 'text': 'Quyết định 854/QĐ-UBND về phê duyệt Kế hoạch phát triển nông nghiệp ứng dụng công nghệ cao, nông nghiệp thông minh trên địa bàn tỉnh Lâm Đồng năm 2020'}\n",
      "{'id': 100011, 'text': 'Quyết định 1079/QĐ-UBND năm 2020 công bố danh mục thủ tục hành chính thực hiện chính sách hỗ trợ người dân gặp khó khăn do đại dịch Covid-19 thuộc lĩnh vực Lao động - Thương binh và Xã hội trên địa bàn tỉnh Đắk Lắk'}\n",
      "{'id': 100012, 'text': 'Quyết định 09/2020/QĐ-UBND về Bảng giá tính thuế tài nguyên trên địa bàn tỉnh Phú Thọ năm 2020'}\n",
      "{'id': 100013, 'text': 'Quyết định 13/2020/QĐ-UBND về phân cấp thẩm quyền cấp, điều chỉnh, thu hồi Giấy phép đủ điều kiện kinh doanh dịch vụ karaoke trên địa bàn tỉnh Nghệ An'}\n",
      "{'id': 100014, 'text': 'Kế hoạch 112/KH-UBND năm 2020 về thực hiện Quyết định 142/QĐ-TTg thực hiện Kết luận 52-KL/TW về tiếp tục thực hiện Nghị quyết về xây dựng đội ngũ trí thức trong thời kỳ đẩy mạnh công nghiệp hóa, hiện đại hóa đất nước do tỉnh Yên Bái ban hành'}\n",
      "{'id': 100015, 'text': 'Quyết định 859/QĐ-UBND về phê duyệt danh mục dịch vụ công trực tuyến và danh mục dịch vụ công của tỉnh Lâm Đồng tích hợp, cung cấp trên Cổng dịch vụ công Quốc gia năm 2020'}\n",
      "{'id': 100016, 'text': 'Kế hoạch 4223/KH-UBND năm 2020 thực hiện Nghị quyết 35/NQ-CP về tăng cường huy động nguồn lực của xã hội đầu tư cho phát triển giáo dục và đào tạo trên địa bàn tỉnh Đắk Lắk giai đoạn 2019-2025'}\n",
      "{'id': 100017, 'text': 'Quyết định 22/2020/QĐ-UBND về tiêu chuẩn, định mức sử dụng máy móc, thiết bị chuyên dùng thuộc lĩnh vực y tế do tỉnh Vĩnh Phúc ban hành'}\n",
      "{'id': 100018, 'text': 'Quyết định 18/2020/QĐ-UBND quy định về mức giá dịch vụ sử dụng đường bộ của các phương tiện giao thông đối với dự án Đường ĐT.768 theo hình thức đối tác công tư, hợp đồng BOT do tỉnh Đồng Nai ban hành'}\n",
      "{'id': 100019, 'text': 'Thông báo 1403/TB-GDĐT-KTKĐCLGD năm 2020 về tuyển thẳng vào lớp 10 trung học phổ thông năm học 2020-2021 do Sở Giáo dục và Đào tạo thành phố Hồ Chí Minh ban hành'}\n"
     ]
    }
   ],
   "source": [
    "\n",
    "res = client.query(\n",
    "    collection_name=\"demo_collection\",  # target collection\n",
    "    filter='',  # number of returned entities\n",
    "    limit=100,\n",
    "    output_fields=[\"id\", 'text'],  # specifies fields to be returned\n",
    "    # sorted=True, #\n",
    ")\n",
    "for item in res:\n",
    "    print(item)"
   ]
  },
  {
   "cell_type": "code",
   "execution_count": 8,
   "metadata": {},
   "outputs": [
    {
     "name": "stdout",
     "output_type": "stream",
     "text": [
      "[{'id': 100000, 'distance': 0.6928851008415222, 'entity': {'text': 'Quyết định 720/QĐ-CTN năm 2020 về cho thôi quốc tịch Việt Nam đối với 95 công dân hiện đang cư trú tại Đức do Chủ tịch nước ban hành', 'subject': 'van_ban_phap_luat'}}, {'id': 100001, 'distance': 0.6902773976325989, 'entity': {'text': 'Quyết định 719/QĐ-CTN năm 2020 về cho thôi quốc tịch Việt Nam đối với 15 công dân hiện đang cư trú tại Hồng Kông (Trung Quốc) do Chủ tịch nước ban hành', 'subject': 'van_ban_phap_luat'}}, {'id': 100005, 'distance': 0.5462599396705627, 'entity': {'text': 'Quyết định 647/QĐ-TTg năm 2020 về phê duyệt Đề án hợp tác quốc tế về phát triển bền vững kinh tế biển Việt Nam đến 2030 do Thủ tướng Chính phủ ban hành', 'subject': 'van_ban_phap_luat'}}, {'id': 100002, 'distance': 0.4899764955043793, 'entity': {'text': 'Quyết định 648/QĐ-TTg năm 2020 về phê duyệt nhiệm vụ lập quy hoạch mạng lưới cơ sở y tế thời kỳ 2021-2030, tầm nhìn đến năm 2045 do Thủ tướng Chính phủ ban hành', 'subject': 'van_ban_phap_luat'}}, {'id': 100009, 'distance': 0.46815887093544006, 'entity': {'text': 'Quyết định 13/2020/QĐ-UBND bãi bỏ Quyết định 10/2015/QĐ-UBND quy định về chính sách hỗ trợ doanh nghiệp xuất khẩu phần mềm trên địa bàn thành phố Đà Nẵng', 'subject': 'van_ban_phap_luat'}}]\n"
     ]
    }
   ],
   "source": [
    "queries = [\"năm 2020 về cho thôi quốc tịch Việt Nam\"]\n",
    "\n",
    "query_embeddings = bge_m3_ef.encode_queries(queries)\n",
    "\n",
    "res = client.search(\n",
    "    collection_name=\"demo_collection\",  # target collection\n",
    "    data=[query_embeddings['dense'][0]],  # query vectors\n",
    "    limit=5,  # number of returned entities\n",
    "    output_fields=[\"text\", \"subject\"],  # specifies fields to be returned\n",
    ")\n",
    "context_items = res[0]\n",
    "\n",
    "print(context_items)\n",
    "\n"
   ]
  },
  {
   "cell_type": "code",
   "execution_count": 9,
   "metadata": {},
   "outputs": [
    {
     "data": {
      "text/plain": [
       "['Quyết định 720/QĐ-CTN năm 2020 về cho thôi quốc tịch Việt Nam đối với 95 công dân hiện đang cư trú tại Đức do Chủ tịch nước ban hành',\n",
       " 'Quyết định 719/QĐ-CTN năm 2020 về cho thôi quốc tịch Việt Nam đối với 15 công dân hiện đang cư trú tại Hồng Kông (Trung Quốc) do Chủ tịch nước ban hành',\n",
       " 'Quyết định 647/QĐ-TTg năm 2020 về phê duyệt Đề án hợp tác quốc tế về phát triển bền vững kinh tế biển Việt Nam đến 2030 do Thủ tướng Chính phủ ban hành',\n",
       " 'Quyết định 648/QĐ-TTg năm 2020 về phê duyệt nhiệm vụ lập quy hoạch mạng lưới cơ sở y tế thời kỳ 2021-2030, tầm nhìn đến năm 2045 do Thủ tướng Chính phủ ban hành',\n",
       " 'Quyết định 13/2020/QĐ-UBND bãi bỏ Quyết định 10/2015/QĐ-UBND quy định về chính sách hỗ trợ doanh nghiệp xuất khẩu phần mềm trên địa bàn thành phố Đà Nẵng']"
      ]
     },
     "execution_count": 9,
     "metadata": {},
     "output_type": "execute_result"
    }
   ],
   "source": [
    "context = [item['entity']['text'] for item in context_items]\n",
    "context "
   ]
  },
  {
   "cell_type": "code",
   "execution_count": 10,
   "metadata": {},
   "outputs": [],
   "source": [
    "from langchain.chains import create_retrieval_chain\n",
    "from langchain.chains.combine_documents import create_stuff_documents_chain\n",
    "from langchain_core.prompts import ChatPromptTemplate"
   ]
  },
  {
   "cell_type": "code",
   "execution_count": 11,
   "metadata": {},
   "outputs": [],
   "source": [
    "prompt = '''\n",
    "You are an assistant for question-answering tasks. Use the following pieces of retrieved context to answer the question or history of the chat. If you don't know the answer, just say that you don't know. Use three sentences maximum and keep the answer concise.\n",
    "Question: {question}\n",
    "Context: {context}\n",
    "History:{history}\n",
    "Answer: \n",
    "\n",
    "'''"
   ]
  },
  {
   "cell_type": "code",
   "execution_count": 12,
   "metadata": {},
   "outputs": [],
   "source": [
    "history = []"
   ]
  },
  {
   "cell_type": "code",
   "execution_count": 13,
   "metadata": {},
   "outputs": [],
   "source": [
    "example_messages = llm.invoke(prompt)"
   ]
  },
  {
   "cell_type": "code",
   "execution_count": 14,
   "metadata": {},
   "outputs": [
    {
     "data": {
      "text/plain": [
       "\"I'm ready to assist. What is your question? I'll respond based on any provided context, history, and a concise three-sentence format. Please go ahead with your query!\""
      ]
     },
     "execution_count": 14,
     "metadata": {},
     "output_type": "execute_result"
    }
   ],
   "source": [
    "example_messages"
   ]
  },
  {
   "cell_type": "code",
   "execution_count": 15,
   "metadata": {},
   "outputs": [],
   "source": [
    "def question_llm(question):\n",
    "  prompt_formatted = prompt.format(question=question, context=context, history=history)\n",
    "  res = llm.invoke(prompt_formatted)\n",
    "  history.append([\n",
    "    ('user',question),\n",
    "    ('system',res)\n",
    "  ])\n",
    "  \n",
    "  # print(prompt_formatted)\n",
    "  print(res)"
   ]
  },
  {
   "cell_type": "code",
   "execution_count": 16,
   "metadata": {},
   "outputs": [
    {
     "name": "stdout",
     "output_type": "stream",
     "text": [
      "Quyết định 720/QĐ-CTN năm 2020 là quyết định của Chủ tịch nước Việt Nam về cho thôi quốc tịch Việt Nam đối với 95 công dân hiện đang cư trú tại Đức.\n"
     ]
    }
   ],
   "source": [
    "question_llm(\"Quyết định 720/QĐ-CTN năm 2020 là gì\")"
   ]
  },
  {
   "cell_type": "code",
   "execution_count": 17,
   "metadata": {},
   "outputs": [
    {
     "name": "stdout",
     "output_type": "stream",
     "text": [
      "Tôi lấy thông tin từ các quyết định hành chính của Việt Nam, bao gồm các Quyết định của Chủ tịch nước và Thủ tướng Chính phủ. Thông tin này được lưu trữ trong cơ sở dữ liệu để trả lời câu hỏi của người dùng. Bạn có thể chọn một quyết định cụ thể để tôi trả lời chi tiết hơn.\n"
     ]
    }
   ],
   "source": [
    "question_llm(\"Bạn lấy thông tin từ đâu\")"
   ]
  },
  {
   "cell_type": "code",
   "execution_count": 18,
   "metadata": {},
   "outputs": [
    {
     "name": "stdout",
     "output_type": "stream",
     "text": [
      "Tôi lấy thông tin từ các quyết định hành chính của Việt Nam, bao gồm các Quyết định của Chủ tịch nước và Thủ tướng Chính phủ. Thông tin này được lưu trữ trong cơ sở dữ liệu để trả lời câu hỏi của người dùng. Cụ thể, tôi đã lấy thông tin về Quyết định 720/QĐ-CTN từ đây.\n"
     ]
    }
   ],
   "source": [
    "question_llm(\"Câu hỏi về Quyết định 720/QĐ-CTN khi nãy bạn lấy thông tin từ dữ liệu nào\")"
   ]
  },
  {
   "cell_type": "code",
   "execution_count": 19,
   "metadata": {},
   "outputs": [
    {
     "name": "stdout",
     "output_type": "stream",
     "text": [
      "Quyết định 719/QĐ-CTN năm 2020 là quyết định cho thôi quốc tịch Việt Nam đối với 15 công dân hiện đang cư trú tại Hồng Kông (Trung Quốc). Đây là một trong các quyết định hành chính của Việt Nam do Chủ tịch nước ban hành. Quyết định này được thực hiện cùng thời điểm với Quyết định 720/QĐ-CTN về việc cho thôi quốc tịch Việt Nam đối với 95 công dân tại Đức.\n"
     ]
    }
   ],
   "source": [
    "question_llm(\"Thể hiện các context mà bạn thao khảo\")"
   ]
  },
  {
   "cell_type": "markdown",
   "metadata": {},
   "source": [
    "## FAQ\n",
    "Khi nhận câu hỏi -> Hệ thống detect FAQ -> Trả lời FAQ answer\n",
    "\n",
    "==> Người dùng sửa câu trả lời --> Lưu \n",
    "\n",
    "==> Nếu có version của user khác sửa rồi thì cho user đánh giá cái nào tốt hơn (random 2 cái)\n",
    "\n",
    "Sau 1 khoảng tg câu trả lời nào điểm cao thì update vào FAQ"
   ]
  },
  {
   "cell_type": "code",
   "execution_count": 2,
   "metadata": {},
   "outputs": [],
   "source": [
    "# client.drop_collection(collection_name=\"faq_collection\")\n",
    "\n"
   ]
  },
  {
   "cell_type": "code",
   "execution_count": 3,
   "metadata": {},
   "outputs": [],
   "source": [
    "\n",
    "client.create_collection(\n",
    "        collection_name=\"faq_collection\",\n",
    "        dimension=1024,  # The vectors we will use in this demo has 768 dimensions\n",
    "        auto_id=True\n",
    ")"
   ]
  },
  {
   "cell_type": "code",
   "execution_count": 7,
   "metadata": {},
   "outputs": [
    {
     "data": {
      "text/plain": [
       "{'insert_count': 3, 'ids': [452331441182736994, 452331441182736995, 452331441182736996], 'cost': 0}"
      ]
     },
     "execution_count": 7,
     "metadata": {},
     "output_type": "execute_result"
    }
   ],
   "source": [
    "data = [\n",
    "  {'question': 'Quyết định 720/QĐ-CTN năm 2020 là gì', 'answer': '1'},\n",
    "  {'question': 'Quyết định 720/QĐ-CTN năm 2020 có gì', 'answer': '2'},\n",
    "  {'question': 'Tôi yêu em', 'answer': '3'},\n",
    "  ]\n",
    "docs= [f\"{item['question']}\" for item in data ]\n",
    "            \n",
    "docs_embeddings = bge_m3_ef.encode_documents(docs)\n",
    "\n",
    "vectors = docs_embeddings[\"dense\"]\n",
    "\n",
    "data = [{\"question\": data[i]['question'], \"vector\": vectors[i], \"answer\":  data[i]['answer']} for i in range(len(vectors)) ]\n",
    "\n",
    "res = client.insert(collection_name=\"faq_collection\", data=data)\n",
    "res"
   ]
  },
  {
   "cell_type": "code",
   "execution_count": 22,
   "metadata": {},
   "outputs": [
    {
     "data": {
      "text/plain": [
       "{'dense': [array([-0.04193483,  0.00843451, -0.02539786, ..., -0.01222823,\n",
       "         -0.06493812, -0.03544782], dtype=float32)],\n",
       " 'sparse': <Compressed Sparse Row sparse array of dtype 'float64'\n",
       " \twith 10 stored elements and shape (1, 250002)>}"
      ]
     },
     "execution_count": 22,
     "metadata": {},
     "output_type": "execute_result"
    }
   ],
   "source": [
    "faq_queries = [\"Quyết định 720/QĐ-CTN năm 2020\"]\n",
    "\n",
    "faq_query_embeddings = bge_m3_ef.encode_queries(faq_queries)\n",
    "\n",
    "faq_query_embeddings"
   ]
  },
  {
   "cell_type": "code",
   "execution_count": 23,
   "metadata": {},
   "outputs": [
    {
     "name": "stdout",
     "output_type": "stream",
     "text": [
      "[{'id': 1, 'distance': 0.9326093196868896, 'entity': {'question': 'Quyết định 720/QĐ-CTN năm 2020 có gì', 'answer': '2'}}, {'id': 0, 'distance': 0.9128784537315369, 'entity': {'question': 'Quyết định 720/QĐ-CTN năm 2020 là gì', 'answer': '1'}}, {'id': 2, 'distance': 0.2726913392543793, 'entity': {'question': 'Tôi yêu em', 'answer': '3'}}]\n"
     ]
    }
   ],
   "source": [
    "res = client.search(\n",
    "    collection_name=\"faq_collection\",  # target collection\n",
    "    data=[faq_query_embeddings['dense'][0]],  # query vectors\n",
    "    limit=5,  # number of returned entities\n",
    "    output_fields=[\"question\", \"answer\"],  # specifies fields to be returned\n",
    ")\n",
    "context_items = res[0]\n",
    "\n",
    "print(context_items)\n",
    "\n"
   ]
  }
 ],
 "metadata": {
  "kernelspec": {
   "display_name": ".venv",
   "language": "python",
   "name": "python3"
  },
  "language_info": {
   "codemirror_mode": {
    "name": "ipython",
    "version": 3
   },
   "file_extension": ".py",
   "mimetype": "text/x-python",
   "name": "python",
   "nbconvert_exporter": "python",
   "pygments_lexer": "ipython3",
   "version": "3.11.2"
  }
 },
 "nbformat": 4,
 "nbformat_minor": 2
}
