{
 "cells": [
  {
   "cell_type": "markdown",
   "metadata": {},
   "source": [
    "# RAG pipeline"
   ]
  },
  {
   "cell_type": "code",
   "execution_count": 10,
   "metadata": {},
   "outputs": [],
   "source": [
    "from langchain.llms import Ollama\n",
    "from langchain.chains import RetrievalQA\n",
    "from langchain.text_splitter import CharacterTextSplitter\n",
    "from langchain.document_loaders import CSVLoader\n",
    "from langchain.vectorstores import FAISS\n",
    "import pandas as pd\n",
    "import psycopg2\n",
    "from langchain_huggingface import HuggingFaceEmbeddings\n"
   ]
  },
  {
   "cell_type": "code",
   "execution_count": 11,
   "metadata": {},
   "outputs": [],
   "source": [
    "# # Step 1: Load Data from CSV\n",
    "# csv_path = \"rag_data.csv\"  # Replace with your CSV file path\n",
    "# loader = CSVLoader(csv_path)\n",
    "# data = loader.load()"
   ]
  },
  {
   "cell_type": "code",
   "execution_count": 12,
   "metadata": {},
   "outputs": [],
   "source": [
    "# print(data)"
   ]
  },
  {
   "cell_type": "code",
   "execution_count": 13,
   "metadata": {},
   "outputs": [],
   "source": [
    "# # Step 2: Split Data into Documents\n",
    "# text_splitter = CharacterTextSplitter(chunk_size=1000, chunk_overlap=200)\n",
    "# documents = text_splitter.split_documents(data)"
   ]
  },
  {
   "cell_type": "code",
   "execution_count": 14,
   "metadata": {},
   "outputs": [],
   "source": [
    "# print(documents)"
   ]
  },
  {
   "cell_type": "code",
   "execution_count": 15,
   "metadata": {},
   "outputs": [],
   "source": [
    "# Step 3: Use Sentence-Transformers for Embeddings\n",
    "# Load a pre-trained sentence transformer model\n",
    "# embeddings = HuggingFaceEmbeddings(model_name=\"cointegrated/rubert-tiny2\")\n",
    "\n",
    "# Create embeddings for documents\n",
    "# embeddings = embedding_model.encode([doc.page_content for doc in documents])\n",
    "\n",
    "# Create FAISS vector store\n",
    "# vectorstore = FAISS.from_documents(documents, embeddings)\n"
   ]
  },
  {
   "cell_type": "code",
   "execution_count": 16,
   "metadata": {},
   "outputs": [],
   "source": [
    "# Step 4: Initialize LLaMA LLM via Ollama\n",
    "llm = Ollama(model=\"llama3.1:latest\")\n"
   ]
  },
  {
   "cell_type": "code",
   "execution_count": 17,
   "metadata": {},
   "outputs": [],
   "source": [
    "# # # Step 5: Create the RAG Pipeline with LangChain's RetrievalQA Chain\n",
    "# qa_chain = RetrievalQA.from_chain_type(\n",
    "#     llm=llm,\n",
    "#     chain_type=\"stuff\",  # You can also use \"map_reduce\" for larger datasets\n",
    "#     retriever=vectorstore.as_retriever()\n",
    "# )\n"
   ]
  },
  {
   "cell_type": "code",
   "execution_count": 18,
   "metadata": {},
   "outputs": [],
   "source": [
    "\n",
    "# # Step 6: Run a Q&A Test\n",
    "# query = \"FPT Smart Cloud là gì\"\n",
    "# result = qa_chain.run(query)\n",
    "# print(result)"
   ]
  },
  {
   "cell_type": "markdown",
   "metadata": {},
   "source": [
    "# Database integrate"
   ]
  },
  {
   "cell_type": "code",
   "execution_count": 19,
   "metadata": {},
   "outputs": [],
   "source": [
    "# import pandas as pd\n",
    "# df = pd.read_parquet('Văn Bản Pháp Luật_p100000-100019.parquet')\n",
    "# # Đọc file Parquet bằng pandas\n",
    "# parquet_file_path = 'Văn Bản Pháp Luật_p100000-100019.parquet'  # Đường dẫn đến file Parquet\n",
    "# df = pd.read_parquet(parquet_file_path)\n",
    "# df['created_date'] = pd.to_datetime(df['created_date'], format='%d/%m/%Y')\n",
    "# df['updated_date'] = pd.to_datetime(df['updated_date'], format='%d/%m/%Y')\n",
    "# df['content_raw'] =  df['content'].apply(lambda x: x.decode('utf-8') if isinstance(x, bytes) else x)\n",
    "# df.head()\n"
   ]
  },
  {
   "cell_type": "code",
   "execution_count": null,
   "metadata": {},
   "outputs": [],
   "source": []
  },
  {
   "cell_type": "code",
   "execution_count": 20,
   "metadata": {},
   "outputs": [],
   "source": [
    "# # df = combined_df\n",
    "# df.info()"
   ]
  },
  {
   "cell_type": "code",
   "execution_count": 21,
   "metadata": {},
   "outputs": [],
   "source": [
    "# Kết nối tới PostgreSQL\n",
    "def create_connection():\n",
    "    connection = psycopg2.connect(\n",
    "        host=\"localhost\",\n",
    "        port=\"5432\",\n",
    "        user=\"postgres\",\n",
    "        password=\"123456\",\n",
    "        database=\"db_llm\"\n",
    "    )\n",
    "    return connection"
   ]
  },
  {
   "cell_type": "code",
   "execution_count": 22,
   "metadata": {},
   "outputs": [],
   "source": [
    "# import os\n",
    "# import pandas as pd\n",
    "\n",
    "# # Đường dẫn đến thư mục \"Khoi\"\n",
    "# folder_path = 'Khoi'\n",
    "\n",
    "# # Danh sách lưu trữ các DataFrame\n",
    "# df_list = []\n",
    "\n",
    "# # Duyệt qua tất cả các file trong thư mục\n",
    "# for file_name in os.listdir('Khoi'):\n",
    "#     # Kiểm tra nếu file có định dạng giống \"Văn Bản Pháp Luật_p*.parquet\"\n",
    "#     print(\"file_name\", file_name)\n",
    "#     file_path = os.path.join(folder_path, file_name)\n",
    "    \n",
    "#     # Đọc file Parquet và thêm vào danh sách DataFrame\n",
    "#     file_df = pd.read_parquet(file_path)\n",
    "    \n",
    "#     # Thực hiện các chuyển đổi tương tự như bạn đã đề cập\n",
    "#     file_df['created_date'] = pd.to_datetime(file_df['created_date'], format='%d/%m/%Y')\n",
    "#     file_df['updated_date'] = pd.to_datetime(file_df['updated_date'], format='%d/%m/%Y')\n",
    "#     file_df['content_raw'] = file_df['content'].apply(lambda x: x.decode('utf-8') if isinstance(x, bytes) else x)\n",
    "    \n",
    "#     # df_list.append(file_df)\n",
    "    \n",
    "    \n",
    "\n",
    "#     connection = create_connection()\n",
    "\n",
    "#     cursor = connection.cursor()\n",
    "\n",
    "#     try: \n",
    "#         # Chèn dữ liệu từ DataFrame vào PostgreSQL\n",
    "#         for index, row in file_df.iterrows():\n",
    "#             cursor.execute(\n",
    "#                 \"\"\"\n",
    "#                 INSERT INTO page_content (type, id, url, title, created_date, updated_date, content, content_raw)\n",
    "#                 VALUES (%s, %s, %s, %s, %s, %s, %s, %s)\n",
    "#                 \"\"\",\n",
    "#                 (\"van_ban_phap_luat\",row['id'], row['url'], row['title'], row['created_date'], row['updated_date'], row['content'], row['content_raw'])\n",
    "#             )\n",
    "\n",
    "#         # Xác nhận các thay đổi vào cơ sở dữ liệu\n",
    "#         connection.commit()\n",
    "\n",
    "#     except Exception as e:\n",
    "#         print(e)\n",
    "\n",
    "#     # Đóng kết nối\n",
    "#     cursor.close()\n",
    "#     connection.close()\n",
    "\n",
    "#     print(\"Data inserted successfully!\")\n",
    "\n",
    "\n",
    "# # # Nối tất cả các DataFrame lại với nhau thành một DataFrame duy nhất\n",
    "# # combined_df = pd.concat(df_list, ignore_index=True)\n",
    "\n",
    "# # # Hiển thị vài dòng đầu tiên của DataFrame\n",
    "# # combined_df.head()"
   ]
  },
  {
   "cell_type": "code",
   "execution_count": 23,
   "metadata": {},
   "outputs": [],
   "source": [
    "\n",
    "\n",
    "# connection = create_connection()\n",
    "\n",
    "# cursor = connection.cursor()\n",
    "\n",
    "# try: \n",
    "#     # Chèn dữ liệu từ DataFrame vào PostgreSQL\n",
    "#     for index, row in df.iterrows():\n",
    "#         cursor.execute(\n",
    "#             \"\"\"\n",
    "#             INSERT INTO page_content (type, id, url, title, created_date, updated_date, content, content_raw)\n",
    "#             VALUES (%s, %s, %s, %s, %s, %s, %s, %s)\n",
    "#             \"\"\",\n",
    "#             (\"van_ban_phap_luat\",row['id'], row['url'], row['title'], row['created_date'], row['updated_date'], row['content'], row['content_raw'])\n",
    "#         )\n",
    "\n",
    "#     # Xác nhận các thay đổi vào cơ sở dữ liệu\n",
    "#     connection.commit()\n",
    "\n",
    "# except Exception as e:\n",
    "#     print(e)\n",
    "\n",
    "# # Đóng kết nối\n",
    "# cursor.close()\n",
    "# connection.close()\n",
    "\n",
    "# print(\"Data inserted successfully!\")\n"
   ]
  },
  {
   "cell_type": "code",
   "execution_count": 24,
   "metadata": {},
   "outputs": [
    {
     "name": "stderr",
     "output_type": "stream",
     "text": [
      "/var/folders/38/q1znsjsj5c17qlggflslw4000000gn/T/ipykernel_78563/1450111919.py:6: UserWarning: pandas only supports SQLAlchemy connectable (engine/connection) or database string URI or sqlite3 DBAPI2 connection. Other DBAPI2 objects are not tested. Please consider using SQLAlchemy.\n",
      "  df = pd.read_sql_query(query, connection)\n"
     ]
    },
    {
     "ename": "KeyboardInterrupt",
     "evalue": "",
     "output_type": "error",
     "traceback": [
      "\u001b[0;31m---------------------------------------------------------------------------\u001b[0m",
      "\u001b[0;31mKeyboardInterrupt\u001b[0m                         Traceback (most recent call last)",
      "Cell \u001b[0;32mIn[24], line 6\u001b[0m\n\u001b[1;32m      3\u001b[0m query \u001b[38;5;241m=\u001b[39m \u001b[38;5;124m\"\u001b[39m\u001b[38;5;124mSELECT * FROM page_content limit 1000;\u001b[39m\u001b[38;5;124m\"\u001b[39m\n\u001b[1;32m      5\u001b[0m \u001b[38;5;66;03m# Load data into a DataFrame\u001b[39;00m\n\u001b[0;32m----> 6\u001b[0m df \u001b[38;5;241m=\u001b[39m \u001b[43mpd\u001b[49m\u001b[38;5;241;43m.\u001b[39;49m\u001b[43mread_sql_query\u001b[49m\u001b[43m(\u001b[49m\u001b[43mquery\u001b[49m\u001b[43m,\u001b[49m\u001b[43m \u001b[49m\u001b[43mconnection\u001b[49m\u001b[43m)\u001b[49m\n\u001b[1;32m      8\u001b[0m \u001b[38;5;66;03m# Close the connection\u001b[39;00m\n\u001b[1;32m      9\u001b[0m connection\u001b[38;5;241m.\u001b[39mclose()\n",
      "File \u001b[0;32m/Volumes/home/Learn/Master/3.LLMs/rag_pipeline/.venv/lib/python3.11/site-packages/pandas/io/sql.py:526\u001b[0m, in \u001b[0;36mread_sql_query\u001b[0;34m(sql, con, index_col, coerce_float, params, parse_dates, chunksize, dtype, dtype_backend)\u001b[0m\n\u001b[1;32m    523\u001b[0m \u001b[38;5;28;01massert\u001b[39;00m dtype_backend \u001b[38;5;129;01mis\u001b[39;00m \u001b[38;5;129;01mnot\u001b[39;00m lib\u001b[38;5;241m.\u001b[39mno_default\n\u001b[1;32m    525\u001b[0m \u001b[38;5;28;01mwith\u001b[39;00m pandasSQL_builder(con) \u001b[38;5;28;01mas\u001b[39;00m pandas_sql:\n\u001b[0;32m--> 526\u001b[0m     \u001b[38;5;28;01mreturn\u001b[39;00m \u001b[43mpandas_sql\u001b[49m\u001b[38;5;241;43m.\u001b[39;49m\u001b[43mread_query\u001b[49m\u001b[43m(\u001b[49m\n\u001b[1;32m    527\u001b[0m \u001b[43m        \u001b[49m\u001b[43msql\u001b[49m\u001b[43m,\u001b[49m\n\u001b[1;32m    528\u001b[0m \u001b[43m        \u001b[49m\u001b[43mindex_col\u001b[49m\u001b[38;5;241;43m=\u001b[39;49m\u001b[43mindex_col\u001b[49m\u001b[43m,\u001b[49m\n\u001b[1;32m    529\u001b[0m \u001b[43m        \u001b[49m\u001b[43mparams\u001b[49m\u001b[38;5;241;43m=\u001b[39;49m\u001b[43mparams\u001b[49m\u001b[43m,\u001b[49m\n\u001b[1;32m    530\u001b[0m \u001b[43m        \u001b[49m\u001b[43mcoerce_float\u001b[49m\u001b[38;5;241;43m=\u001b[39;49m\u001b[43mcoerce_float\u001b[49m\u001b[43m,\u001b[49m\n\u001b[1;32m    531\u001b[0m \u001b[43m        \u001b[49m\u001b[43mparse_dates\u001b[49m\u001b[38;5;241;43m=\u001b[39;49m\u001b[43mparse_dates\u001b[49m\u001b[43m,\u001b[49m\n\u001b[1;32m    532\u001b[0m \u001b[43m        \u001b[49m\u001b[43mchunksize\u001b[49m\u001b[38;5;241;43m=\u001b[39;49m\u001b[43mchunksize\u001b[49m\u001b[43m,\u001b[49m\n\u001b[1;32m    533\u001b[0m \u001b[43m        \u001b[49m\u001b[43mdtype\u001b[49m\u001b[38;5;241;43m=\u001b[39;49m\u001b[43mdtype\u001b[49m\u001b[43m,\u001b[49m\n\u001b[1;32m    534\u001b[0m \u001b[43m        \u001b[49m\u001b[43mdtype_backend\u001b[49m\u001b[38;5;241;43m=\u001b[39;49m\u001b[43mdtype_backend\u001b[49m\u001b[43m,\u001b[49m\n\u001b[1;32m    535\u001b[0m \u001b[43m    \u001b[49m\u001b[43m)\u001b[49m\n",
      "File \u001b[0;32m/Volumes/home/Learn/Master/3.LLMs/rag_pipeline/.venv/lib/python3.11/site-packages/pandas/io/sql.py:2738\u001b[0m, in \u001b[0;36mSQLiteDatabase.read_query\u001b[0;34m(self, sql, index_col, coerce_float, parse_dates, params, chunksize, dtype, dtype_backend)\u001b[0m\n\u001b[1;32m   2727\u001b[0m \u001b[38;5;28;01mdef\u001b[39;00m \u001b[38;5;21mread_query\u001b[39m(\n\u001b[1;32m   2728\u001b[0m     \u001b[38;5;28mself\u001b[39m,\n\u001b[1;32m   2729\u001b[0m     sql,\n\u001b[0;32m   (...)\u001b[0m\n\u001b[1;32m   2736\u001b[0m     dtype_backend: DtypeBackend \u001b[38;5;241m|\u001b[39m Literal[\u001b[38;5;124m\"\u001b[39m\u001b[38;5;124mnumpy\u001b[39m\u001b[38;5;124m\"\u001b[39m] \u001b[38;5;241m=\u001b[39m \u001b[38;5;124m\"\u001b[39m\u001b[38;5;124mnumpy\u001b[39m\u001b[38;5;124m\"\u001b[39m,\n\u001b[1;32m   2737\u001b[0m ) \u001b[38;5;241m-\u001b[39m\u001b[38;5;241m>\u001b[39m DataFrame \u001b[38;5;241m|\u001b[39m Iterator[DataFrame]:\n\u001b[0;32m-> 2738\u001b[0m     cursor \u001b[38;5;241m=\u001b[39m \u001b[38;5;28;43mself\u001b[39;49m\u001b[38;5;241;43m.\u001b[39;49m\u001b[43mexecute\u001b[49m\u001b[43m(\u001b[49m\u001b[43msql\u001b[49m\u001b[43m,\u001b[49m\u001b[43m \u001b[49m\u001b[43mparams\u001b[49m\u001b[43m)\u001b[49m\n\u001b[1;32m   2739\u001b[0m     columns \u001b[38;5;241m=\u001b[39m [col_desc[\u001b[38;5;241m0\u001b[39m] \u001b[38;5;28;01mfor\u001b[39;00m col_desc \u001b[38;5;129;01min\u001b[39;00m cursor\u001b[38;5;241m.\u001b[39mdescription]\n\u001b[1;32m   2741\u001b[0m     \u001b[38;5;28;01mif\u001b[39;00m chunksize \u001b[38;5;129;01mis\u001b[39;00m \u001b[38;5;129;01mnot\u001b[39;00m \u001b[38;5;28;01mNone\u001b[39;00m:\n",
      "File \u001b[0;32m/Volumes/home/Learn/Master/3.LLMs/rag_pipeline/.venv/lib/python3.11/site-packages/pandas/io/sql.py:2674\u001b[0m, in \u001b[0;36mSQLiteDatabase.execute\u001b[0;34m(self, sql, params)\u001b[0m\n\u001b[1;32m   2672\u001b[0m cur \u001b[38;5;241m=\u001b[39m \u001b[38;5;28mself\u001b[39m\u001b[38;5;241m.\u001b[39mcon\u001b[38;5;241m.\u001b[39mcursor()\n\u001b[1;32m   2673\u001b[0m \u001b[38;5;28;01mtry\u001b[39;00m:\n\u001b[0;32m-> 2674\u001b[0m     \u001b[43mcur\u001b[49m\u001b[38;5;241;43m.\u001b[39;49m\u001b[43mexecute\u001b[49m\u001b[43m(\u001b[49m\u001b[43msql\u001b[49m\u001b[43m,\u001b[49m\u001b[43m \u001b[49m\u001b[38;5;241;43m*\u001b[39;49m\u001b[43margs\u001b[49m\u001b[43m)\u001b[49m\n\u001b[1;32m   2675\u001b[0m     \u001b[38;5;28;01mreturn\u001b[39;00m cur\n\u001b[1;32m   2676\u001b[0m \u001b[38;5;28;01mexcept\u001b[39;00m \u001b[38;5;167;01mException\u001b[39;00m \u001b[38;5;28;01mas\u001b[39;00m exc:\n",
      "File \u001b[0;32m/Library/Frameworks/Python.framework/Versions/3.11/lib/python3.11/encodings/utf_8.py:15\u001b[0m, in \u001b[0;36mdecode\u001b[0;34m(input, errors)\u001b[0m\n\u001b[1;32m     11\u001b[0m \u001b[38;5;66;03m### Codec APIs\u001b[39;00m\n\u001b[1;32m     13\u001b[0m encode \u001b[38;5;241m=\u001b[39m codecs\u001b[38;5;241m.\u001b[39mutf_8_encode\n\u001b[0;32m---> 15\u001b[0m \u001b[38;5;28;01mdef\u001b[39;00m \u001b[38;5;21mdecode\u001b[39m(\u001b[38;5;28minput\u001b[39m, errors\u001b[38;5;241m=\u001b[39m\u001b[38;5;124m'\u001b[39m\u001b[38;5;124mstrict\u001b[39m\u001b[38;5;124m'\u001b[39m):\n\u001b[1;32m     16\u001b[0m     \u001b[38;5;28;01mreturn\u001b[39;00m codecs\u001b[38;5;241m.\u001b[39mutf_8_decode(\u001b[38;5;28minput\u001b[39m, errors, \u001b[38;5;28;01mTrue\u001b[39;00m)\n\u001b[1;32m     18\u001b[0m \u001b[38;5;28;01mclass\u001b[39;00m \u001b[38;5;21;01mIncrementalEncoder\u001b[39;00m(codecs\u001b[38;5;241m.\u001b[39mIncrementalEncoder):\n",
      "\u001b[0;31mKeyboardInterrupt\u001b[0m: "
     ]
    }
   ],
   "source": [
    "connection = create_connection()\n",
    "# Query to fetch data\n",
    "query = \"SELECT * FROM page_content limit 1000;\"\n",
    "\n",
    "# Load data into a DataFrame\n",
    "df = pd.read_sql_query(query, connection)\n",
    "\n",
    "# Close the connection\n",
    "connection.close()\n",
    "\n",
    "df.head(2)"
   ]
  },
  {
   "cell_type": "code",
   "execution_count": null,
   "metadata": {},
   "outputs": [
    {
     "name": "stderr",
     "output_type": "stream",
     "text": [
      "/var/folders/38/q1znsjsj5c17qlggflslw4000000gn/T/ipykernel_46078/3549705010.py:10: UserWarning: pandas only supports SQLAlchemy connectable (engine/connection) or database string URI or sqlite3 DBAPI2 connection. Other DBAPI2 objects are not tested. Please consider using SQLAlchemy.\n",
      "  df = pd.read_sql_query(query, connection)\n"
     ]
    }
   ],
   "source": [
    "\n",
    "# Define the Document class\n",
    "class Document:\n",
    "    def __init__(self,page_content,metadata):\n",
    "        self.page_content = page_content\n",
    "        self.metadata = metadata\n",
    "# Connect to PostgreSQL and fetch data\n",
    "def fetch_data_from_postgres():\n",
    "    connection = create_connection()\n",
    "    query = \"SELECT * FROM page_content limit 1000;\"\n",
    "    df = pd.read_sql_query(query, connection)\n",
    "    connection.close()\n",
    "    return df\n",
    "\n",
    "# Convert DataFrame to Document objects\n",
    "def convert_df_to_documents(df):\n",
    "    documents = [\n",
    "        Document(\n",
    "            # page_content=f\"ID: {row.id}, Title: {row.title}, Content: {row.content_raw}\",  # or combine other fields if needed\n",
    "            page_content=f\"ID: {row.id}\\n Title: {row.title}\",  # or combine other fields if needed\n",
    "            metadata={\n",
    "                'id': row['id'],\n",
    "                'url': row['url'],\n",
    "                'title': row['title'],\n",
    "                # 'created_date': row['created_date'],\n",
    "                # 'updated_date': row['updated_date']\n",
    "            }\n",
    "        )\n",
    "        for _, row in df.iterrows()\n",
    "    ]\n",
    "    return documents\n",
    "\n",
    "# Fetch data\n",
    "df = fetch_data_from_postgres()\n",
    "\n",
    "# Convert to Document objects\n",
    "documents = convert_df_to_documents(df)\n",
    "\n",
    "# Example usage\n",
    "# for doc in documents:\n",
    "#     print(f\"page_content: {doc.page_content}\")  # "
   ]
  },
  {
   "cell_type": "code",
   "execution_count": null,
   "metadata": {},
   "outputs": [],
   "source": [
    "# embeddings = HuggingFaceEmbeddings(model_name=\"cointegrated/rubert-tiny2\")"
   ]
  },
  {
   "cell_type": "code",
   "execution_count": null,
   "metadata": {},
   "outputs": [],
   "source": [
    "# vectorstore = FAISS.from_documents(documents, embeddings)"
   ]
  },
  {
   "cell_type": "code",
   "execution_count": null,
   "metadata": {},
   "outputs": [],
   "source": [
    "# # Step 5: Create the RAG Pipeline with LangChain's RetrievalQA Chain\n",
    "# qa_chain = RetrievalQA.from_chain_type(\n",
    "#     llm=llm,\n",
    "#     chain_type=\"stuff\",  # You can also use \"map_reduce\" for larger datasets\n",
    "#     retriever=vectorstore.as_retriever()\n",
    "# )"
   ]
  },
  {
   "cell_type": "code",
   "execution_count": null,
   "metadata": {},
   "outputs": [],
   "source": []
  },
  {
   "cell_type": "code",
   "execution_count": null,
   "metadata": {},
   "outputs": [],
   "source": [
    "\n",
    "\n",
    "\n",
    "# # Step 6: Run a Q&A Test\n",
    "# query = \"4223/KH-UBND năm 2020 \"\n",
    "# # result = qa_chain.run(query)\n",
    "# result = vectorstore.similarity_search(query)\n",
    "# show_result = [{'url': item.metadata['url'],'title': item.metadata['title'] } for item in result]\n",
    "\n",
    "# show_result\n"
   ]
  },
  {
   "cell_type": "code",
   "execution_count": null,
   "metadata": {},
   "outputs": [],
   "source": [
    "# retriever = vectorstore.as_retriever(search_type=\"mmr\", search_kwargs={\"k\": 1})\n",
    "# result = retriever.invoke(query)\n",
    "# show_result = [{'url': item.metadata['url'],'title': item.metadata['title'] } for item in result]\n",
    "\n",
    "# show_result"
   ]
  },
  {
   "cell_type": "code",
   "execution_count": null,
   "metadata": {},
   "outputs": [],
   "source": [
    "def print_result(result):\n",
    "  show_result = [{'url': item.metadata['url'],'title': item.metadata['title'] } for item in result]\n",
    "  print(show_result)"
   ]
  },
  {
   "cell_type": "code",
   "execution_count": null,
   "metadata": {},
   "outputs": [],
   "source": [
    "def dynamic_embedding_model(query,model):\n",
    "  embeddings = HuggingFaceEmbeddings(model_name=model)\n",
    "  vectorstore = FAISS.from_documents(documents, embeddings)\n",
    "  \n",
    "  result_search = vectorstore.similarity_search(query)\n",
    "  print(model)\n",
    "  print_result(result_search)\n",
    "\n"
   ]
  },
  {
   "cell_type": "code",
   "execution_count": null,
   "metadata": {},
   "outputs": [],
   "source": [
    "# models = ['cointegrated/rubert-tiny2','sentence-transformers/all-MiniLM-L6-v2','BAAI/bge-m3']\n",
    "# # Step 6: Run a Q&A Test\n",
    "# query = \"Tìm quyết định  2498/QĐ-UBND năm 2018 \"\n",
    "# for model in models:\n",
    "#   dynamic_embedding_model(query,model)"
   ]
  },
  {
   "cell_type": "code",
   "execution_count": null,
   "metadata": {},
   "outputs": [
    {
     "ename": "ConnectionError",
     "evalue": "(MaxRetryError('HTTPSConnectionPool(host=\\'huggingface.co\\', port=443): Max retries exceeded with url: /BAAI/bge-m3/resolve/main/model.safetensors (Caused by NameResolutionError(\"<urllib3.connection.HTTPSConnection object at 0x34a75f610>: Failed to resolve \\'huggingface.co\\' ([Errno 8] nodename nor servname provided, or not known)\"))'), '(Request ID: e940c0a9-b2cc-4b95-a598-178e7a0dd94e)')",
     "output_type": "error",
     "traceback": [
      "\u001b[0;31m---------------------------------------------------------------------------\u001b[0m",
      "\u001b[0;31mgaierror\u001b[0m                                  Traceback (most recent call last)",
      "File \u001b[0;32m/Volumes/home/Learn/Master/3.LLMs/rag_pipeline/.venv/lib/python3.11/site-packages/urllib3/connection.py:196\u001b[0m, in \u001b[0;36mHTTPConnection._new_conn\u001b[0;34m(self)\u001b[0m\n\u001b[1;32m    195\u001b[0m \u001b[38;5;28;01mtry\u001b[39;00m:\n\u001b[0;32m--> 196\u001b[0m     sock \u001b[38;5;241m=\u001b[39m \u001b[43mconnection\u001b[49m\u001b[38;5;241;43m.\u001b[39;49m\u001b[43mcreate_connection\u001b[49m\u001b[43m(\u001b[49m\n\u001b[1;32m    197\u001b[0m \u001b[43m        \u001b[49m\u001b[43m(\u001b[49m\u001b[38;5;28;43mself\u001b[39;49m\u001b[38;5;241;43m.\u001b[39;49m\u001b[43m_dns_host\u001b[49m\u001b[43m,\u001b[49m\u001b[43m \u001b[49m\u001b[38;5;28;43mself\u001b[39;49m\u001b[38;5;241;43m.\u001b[39;49m\u001b[43mport\u001b[49m\u001b[43m)\u001b[49m\u001b[43m,\u001b[49m\n\u001b[1;32m    198\u001b[0m \u001b[43m        \u001b[49m\u001b[38;5;28;43mself\u001b[39;49m\u001b[38;5;241;43m.\u001b[39;49m\u001b[43mtimeout\u001b[49m\u001b[43m,\u001b[49m\n\u001b[1;32m    199\u001b[0m \u001b[43m        \u001b[49m\u001b[43msource_address\u001b[49m\u001b[38;5;241;43m=\u001b[39;49m\u001b[38;5;28;43mself\u001b[39;49m\u001b[38;5;241;43m.\u001b[39;49m\u001b[43msource_address\u001b[49m\u001b[43m,\u001b[49m\n\u001b[1;32m    200\u001b[0m \u001b[43m        \u001b[49m\u001b[43msocket_options\u001b[49m\u001b[38;5;241;43m=\u001b[39;49m\u001b[38;5;28;43mself\u001b[39;49m\u001b[38;5;241;43m.\u001b[39;49m\u001b[43msocket_options\u001b[49m\u001b[43m,\u001b[49m\n\u001b[1;32m    201\u001b[0m \u001b[43m    \u001b[49m\u001b[43m)\u001b[49m\n\u001b[1;32m    202\u001b[0m \u001b[38;5;28;01mexcept\u001b[39;00m socket\u001b[38;5;241m.\u001b[39mgaierror \u001b[38;5;28;01mas\u001b[39;00m e:\n",
      "File \u001b[0;32m/Volumes/home/Learn/Master/3.LLMs/rag_pipeline/.venv/lib/python3.11/site-packages/urllib3/util/connection.py:60\u001b[0m, in \u001b[0;36mcreate_connection\u001b[0;34m(address, timeout, source_address, socket_options)\u001b[0m\n\u001b[1;32m     58\u001b[0m     \u001b[38;5;28;01mraise\u001b[39;00m LocationParseError(\u001b[38;5;124mf\u001b[39m\u001b[38;5;124m\"\u001b[39m\u001b[38;5;124m'\u001b[39m\u001b[38;5;132;01m{\u001b[39;00mhost\u001b[38;5;132;01m}\u001b[39;00m\u001b[38;5;124m'\u001b[39m\u001b[38;5;124m, label empty or too long\u001b[39m\u001b[38;5;124m\"\u001b[39m) \u001b[38;5;28;01mfrom\u001b[39;00m \u001b[38;5;28;01mNone\u001b[39;00m\n\u001b[0;32m---> 60\u001b[0m \u001b[38;5;28;01mfor\u001b[39;00m res \u001b[38;5;129;01min\u001b[39;00m \u001b[43msocket\u001b[49m\u001b[38;5;241;43m.\u001b[39;49m\u001b[43mgetaddrinfo\u001b[49m\u001b[43m(\u001b[49m\u001b[43mhost\u001b[49m\u001b[43m,\u001b[49m\u001b[43m \u001b[49m\u001b[43mport\u001b[49m\u001b[43m,\u001b[49m\u001b[43m \u001b[49m\u001b[43mfamily\u001b[49m\u001b[43m,\u001b[49m\u001b[43m \u001b[49m\u001b[43msocket\u001b[49m\u001b[38;5;241;43m.\u001b[39;49m\u001b[43mSOCK_STREAM\u001b[49m\u001b[43m)\u001b[49m:\n\u001b[1;32m     61\u001b[0m     af, socktype, proto, canonname, sa \u001b[38;5;241m=\u001b[39m res\n",
      "File \u001b[0;32m/Library/Frameworks/Python.framework/Versions/3.11/lib/python3.11/socket.py:962\u001b[0m, in \u001b[0;36mgetaddrinfo\u001b[0;34m(host, port, family, type, proto, flags)\u001b[0m\n\u001b[1;32m    961\u001b[0m addrlist \u001b[38;5;241m=\u001b[39m []\n\u001b[0;32m--> 962\u001b[0m \u001b[38;5;28;01mfor\u001b[39;00m res \u001b[38;5;129;01min\u001b[39;00m \u001b[43m_socket\u001b[49m\u001b[38;5;241;43m.\u001b[39;49m\u001b[43mgetaddrinfo\u001b[49m\u001b[43m(\u001b[49m\u001b[43mhost\u001b[49m\u001b[43m,\u001b[49m\u001b[43m \u001b[49m\u001b[43mport\u001b[49m\u001b[43m,\u001b[49m\u001b[43m \u001b[49m\u001b[43mfamily\u001b[49m\u001b[43m,\u001b[49m\u001b[43m \u001b[49m\u001b[38;5;28;43mtype\u001b[39;49m\u001b[43m,\u001b[49m\u001b[43m \u001b[49m\u001b[43mproto\u001b[49m\u001b[43m,\u001b[49m\u001b[43m \u001b[49m\u001b[43mflags\u001b[49m\u001b[43m)\u001b[49m:\n\u001b[1;32m    963\u001b[0m     af, socktype, proto, canonname, sa \u001b[38;5;241m=\u001b[39m res\n",
      "\u001b[0;31mgaierror\u001b[0m: [Errno 8] nodename nor servname provided, or not known",
      "\nThe above exception was the direct cause of the following exception:\n",
      "\u001b[0;31mNameResolutionError\u001b[0m                       Traceback (most recent call last)",
      "File \u001b[0;32m/Volumes/home/Learn/Master/3.LLMs/rag_pipeline/.venv/lib/python3.11/site-packages/urllib3/connectionpool.py:789\u001b[0m, in \u001b[0;36mHTTPConnectionPool.urlopen\u001b[0;34m(self, method, url, body, headers, retries, redirect, assert_same_host, timeout, pool_timeout, release_conn, chunked, body_pos, preload_content, decode_content, **response_kw)\u001b[0m\n\u001b[1;32m    788\u001b[0m \u001b[38;5;66;03m# Make the request on the HTTPConnection object\u001b[39;00m\n\u001b[0;32m--> 789\u001b[0m response \u001b[38;5;241m=\u001b[39m \u001b[38;5;28;43mself\u001b[39;49m\u001b[38;5;241;43m.\u001b[39;49m\u001b[43m_make_request\u001b[49m\u001b[43m(\u001b[49m\n\u001b[1;32m    790\u001b[0m \u001b[43m    \u001b[49m\u001b[43mconn\u001b[49m\u001b[43m,\u001b[49m\n\u001b[1;32m    791\u001b[0m \u001b[43m    \u001b[49m\u001b[43mmethod\u001b[49m\u001b[43m,\u001b[49m\n\u001b[1;32m    792\u001b[0m \u001b[43m    \u001b[49m\u001b[43murl\u001b[49m\u001b[43m,\u001b[49m\n\u001b[1;32m    793\u001b[0m \u001b[43m    \u001b[49m\u001b[43mtimeout\u001b[49m\u001b[38;5;241;43m=\u001b[39;49m\u001b[43mtimeout_obj\u001b[49m\u001b[43m,\u001b[49m\n\u001b[1;32m    794\u001b[0m \u001b[43m    \u001b[49m\u001b[43mbody\u001b[49m\u001b[38;5;241;43m=\u001b[39;49m\u001b[43mbody\u001b[49m\u001b[43m,\u001b[49m\n\u001b[1;32m    795\u001b[0m \u001b[43m    \u001b[49m\u001b[43mheaders\u001b[49m\u001b[38;5;241;43m=\u001b[39;49m\u001b[43mheaders\u001b[49m\u001b[43m,\u001b[49m\n\u001b[1;32m    796\u001b[0m \u001b[43m    \u001b[49m\u001b[43mchunked\u001b[49m\u001b[38;5;241;43m=\u001b[39;49m\u001b[43mchunked\u001b[49m\u001b[43m,\u001b[49m\n\u001b[1;32m    797\u001b[0m \u001b[43m    \u001b[49m\u001b[43mretries\u001b[49m\u001b[38;5;241;43m=\u001b[39;49m\u001b[43mretries\u001b[49m\u001b[43m,\u001b[49m\n\u001b[1;32m    798\u001b[0m \u001b[43m    \u001b[49m\u001b[43mresponse_conn\u001b[49m\u001b[38;5;241;43m=\u001b[39;49m\u001b[43mresponse_conn\u001b[49m\u001b[43m,\u001b[49m\n\u001b[1;32m    799\u001b[0m \u001b[43m    \u001b[49m\u001b[43mpreload_content\u001b[49m\u001b[38;5;241;43m=\u001b[39;49m\u001b[43mpreload_content\u001b[49m\u001b[43m,\u001b[49m\n\u001b[1;32m    800\u001b[0m \u001b[43m    \u001b[49m\u001b[43mdecode_content\u001b[49m\u001b[38;5;241;43m=\u001b[39;49m\u001b[43mdecode_content\u001b[49m\u001b[43m,\u001b[49m\n\u001b[1;32m    801\u001b[0m \u001b[43m    \u001b[49m\u001b[38;5;241;43m*\u001b[39;49m\u001b[38;5;241;43m*\u001b[39;49m\u001b[43mresponse_kw\u001b[49m\u001b[43m,\u001b[49m\n\u001b[1;32m    802\u001b[0m \u001b[43m\u001b[49m\u001b[43m)\u001b[49m\n\u001b[1;32m    804\u001b[0m \u001b[38;5;66;03m# Everything went great!\u001b[39;00m\n",
      "File \u001b[0;32m/Volumes/home/Learn/Master/3.LLMs/rag_pipeline/.venv/lib/python3.11/site-packages/urllib3/connectionpool.py:490\u001b[0m, in \u001b[0;36mHTTPConnectionPool._make_request\u001b[0;34m(self, conn, method, url, body, headers, retries, timeout, chunked, response_conn, preload_content, decode_content, enforce_content_length)\u001b[0m\n\u001b[1;32m    489\u001b[0m         new_e \u001b[38;5;241m=\u001b[39m _wrap_proxy_error(new_e, conn\u001b[38;5;241m.\u001b[39mproxy\u001b[38;5;241m.\u001b[39mscheme)\n\u001b[0;32m--> 490\u001b[0m     \u001b[38;5;28;01mraise\u001b[39;00m new_e\n\u001b[1;32m    492\u001b[0m \u001b[38;5;66;03m# conn.request() calls http.client.*.request, not the method in\u001b[39;00m\n\u001b[1;32m    493\u001b[0m \u001b[38;5;66;03m# urllib3.request. It also calls makefile (recv) on the socket.\u001b[39;00m\n",
      "File \u001b[0;32m/Volumes/home/Learn/Master/3.LLMs/rag_pipeline/.venv/lib/python3.11/site-packages/urllib3/connectionpool.py:466\u001b[0m, in \u001b[0;36mHTTPConnectionPool._make_request\u001b[0;34m(self, conn, method, url, body, headers, retries, timeout, chunked, response_conn, preload_content, decode_content, enforce_content_length)\u001b[0m\n\u001b[1;32m    465\u001b[0m \u001b[38;5;28;01mtry\u001b[39;00m:\n\u001b[0;32m--> 466\u001b[0m     \u001b[38;5;28;43mself\u001b[39;49m\u001b[38;5;241;43m.\u001b[39;49m\u001b[43m_validate_conn\u001b[49m\u001b[43m(\u001b[49m\u001b[43mconn\u001b[49m\u001b[43m)\u001b[49m\n\u001b[1;32m    467\u001b[0m \u001b[38;5;28;01mexcept\u001b[39;00m (SocketTimeout, BaseSSLError) \u001b[38;5;28;01mas\u001b[39;00m e:\n",
      "File \u001b[0;32m/Volumes/home/Learn/Master/3.LLMs/rag_pipeline/.venv/lib/python3.11/site-packages/urllib3/connectionpool.py:1095\u001b[0m, in \u001b[0;36mHTTPSConnectionPool._validate_conn\u001b[0;34m(self, conn)\u001b[0m\n\u001b[1;32m   1094\u001b[0m \u001b[38;5;28;01mif\u001b[39;00m conn\u001b[38;5;241m.\u001b[39mis_closed:\n\u001b[0;32m-> 1095\u001b[0m     \u001b[43mconn\u001b[49m\u001b[38;5;241;43m.\u001b[39;49m\u001b[43mconnect\u001b[49m\u001b[43m(\u001b[49m\u001b[43m)\u001b[49m\n\u001b[1;32m   1097\u001b[0m \u001b[38;5;66;03m# TODO revise this, see https://github.com/urllib3/urllib3/issues/2791\u001b[39;00m\n",
      "File \u001b[0;32m/Volumes/home/Learn/Master/3.LLMs/rag_pipeline/.venv/lib/python3.11/site-packages/urllib3/connection.py:615\u001b[0m, in \u001b[0;36mHTTPSConnection.connect\u001b[0;34m(self)\u001b[0m\n\u001b[1;32m    614\u001b[0m sock: socket\u001b[38;5;241m.\u001b[39msocket \u001b[38;5;241m|\u001b[39m ssl\u001b[38;5;241m.\u001b[39mSSLSocket\n\u001b[0;32m--> 615\u001b[0m \u001b[38;5;28mself\u001b[39m\u001b[38;5;241m.\u001b[39msock \u001b[38;5;241m=\u001b[39m sock \u001b[38;5;241m=\u001b[39m \u001b[38;5;28;43mself\u001b[39;49m\u001b[38;5;241;43m.\u001b[39;49m\u001b[43m_new_conn\u001b[49m\u001b[43m(\u001b[49m\u001b[43m)\u001b[49m\n\u001b[1;32m    616\u001b[0m server_hostname: \u001b[38;5;28mstr\u001b[39m \u001b[38;5;241m=\u001b[39m \u001b[38;5;28mself\u001b[39m\u001b[38;5;241m.\u001b[39mhost\n",
      "File \u001b[0;32m/Volumes/home/Learn/Master/3.LLMs/rag_pipeline/.venv/lib/python3.11/site-packages/urllib3/connection.py:203\u001b[0m, in \u001b[0;36mHTTPConnection._new_conn\u001b[0;34m(self)\u001b[0m\n\u001b[1;32m    202\u001b[0m \u001b[38;5;28;01mexcept\u001b[39;00m socket\u001b[38;5;241m.\u001b[39mgaierror \u001b[38;5;28;01mas\u001b[39;00m e:\n\u001b[0;32m--> 203\u001b[0m     \u001b[38;5;28;01mraise\u001b[39;00m NameResolutionError(\u001b[38;5;28mself\u001b[39m\u001b[38;5;241m.\u001b[39mhost, \u001b[38;5;28mself\u001b[39m, e) \u001b[38;5;28;01mfrom\u001b[39;00m \u001b[38;5;21;01me\u001b[39;00m\n\u001b[1;32m    204\u001b[0m \u001b[38;5;28;01mexcept\u001b[39;00m SocketTimeout \u001b[38;5;28;01mas\u001b[39;00m e:\n",
      "\u001b[0;31mNameResolutionError\u001b[0m: <urllib3.connection.HTTPSConnection object at 0x34a75f610>: Failed to resolve 'huggingface.co' ([Errno 8] nodename nor servname provided, or not known)",
      "\nThe above exception was the direct cause of the following exception:\n",
      "\u001b[0;31mMaxRetryError\u001b[0m                             Traceback (most recent call last)",
      "File \u001b[0;32m/Volumes/home/Learn/Master/3.LLMs/rag_pipeline/.venv/lib/python3.11/site-packages/requests/adapters.py:667\u001b[0m, in \u001b[0;36mHTTPAdapter.send\u001b[0;34m(self, request, stream, timeout, verify, cert, proxies)\u001b[0m\n\u001b[1;32m    666\u001b[0m \u001b[38;5;28;01mtry\u001b[39;00m:\n\u001b[0;32m--> 667\u001b[0m     resp \u001b[38;5;241m=\u001b[39m \u001b[43mconn\u001b[49m\u001b[38;5;241;43m.\u001b[39;49m\u001b[43murlopen\u001b[49m\u001b[43m(\u001b[49m\n\u001b[1;32m    668\u001b[0m \u001b[43m        \u001b[49m\u001b[43mmethod\u001b[49m\u001b[38;5;241;43m=\u001b[39;49m\u001b[43mrequest\u001b[49m\u001b[38;5;241;43m.\u001b[39;49m\u001b[43mmethod\u001b[49m\u001b[43m,\u001b[49m\n\u001b[1;32m    669\u001b[0m \u001b[43m        \u001b[49m\u001b[43murl\u001b[49m\u001b[38;5;241;43m=\u001b[39;49m\u001b[43murl\u001b[49m\u001b[43m,\u001b[49m\n\u001b[1;32m    670\u001b[0m \u001b[43m        \u001b[49m\u001b[43mbody\u001b[49m\u001b[38;5;241;43m=\u001b[39;49m\u001b[43mrequest\u001b[49m\u001b[38;5;241;43m.\u001b[39;49m\u001b[43mbody\u001b[49m\u001b[43m,\u001b[49m\n\u001b[1;32m    671\u001b[0m \u001b[43m        \u001b[49m\u001b[43mheaders\u001b[49m\u001b[38;5;241;43m=\u001b[39;49m\u001b[43mrequest\u001b[49m\u001b[38;5;241;43m.\u001b[39;49m\u001b[43mheaders\u001b[49m\u001b[43m,\u001b[49m\n\u001b[1;32m    672\u001b[0m \u001b[43m        \u001b[49m\u001b[43mredirect\u001b[49m\u001b[38;5;241;43m=\u001b[39;49m\u001b[38;5;28;43;01mFalse\u001b[39;49;00m\u001b[43m,\u001b[49m\n\u001b[1;32m    673\u001b[0m \u001b[43m        \u001b[49m\u001b[43massert_same_host\u001b[49m\u001b[38;5;241;43m=\u001b[39;49m\u001b[38;5;28;43;01mFalse\u001b[39;49;00m\u001b[43m,\u001b[49m\n\u001b[1;32m    674\u001b[0m \u001b[43m        \u001b[49m\u001b[43mpreload_content\u001b[49m\u001b[38;5;241;43m=\u001b[39;49m\u001b[38;5;28;43;01mFalse\u001b[39;49;00m\u001b[43m,\u001b[49m\n\u001b[1;32m    675\u001b[0m \u001b[43m        \u001b[49m\u001b[43mdecode_content\u001b[49m\u001b[38;5;241;43m=\u001b[39;49m\u001b[38;5;28;43;01mFalse\u001b[39;49;00m\u001b[43m,\u001b[49m\n\u001b[1;32m    676\u001b[0m \u001b[43m        \u001b[49m\u001b[43mretries\u001b[49m\u001b[38;5;241;43m=\u001b[39;49m\u001b[38;5;28;43mself\u001b[39;49m\u001b[38;5;241;43m.\u001b[39;49m\u001b[43mmax_retries\u001b[49m\u001b[43m,\u001b[49m\n\u001b[1;32m    677\u001b[0m \u001b[43m        \u001b[49m\u001b[43mtimeout\u001b[49m\u001b[38;5;241;43m=\u001b[39;49m\u001b[43mtimeout\u001b[49m\u001b[43m,\u001b[49m\n\u001b[1;32m    678\u001b[0m \u001b[43m        \u001b[49m\u001b[43mchunked\u001b[49m\u001b[38;5;241;43m=\u001b[39;49m\u001b[43mchunked\u001b[49m\u001b[43m,\u001b[49m\n\u001b[1;32m    679\u001b[0m \u001b[43m    \u001b[49m\u001b[43m)\u001b[49m\n\u001b[1;32m    681\u001b[0m \u001b[38;5;28;01mexcept\u001b[39;00m (ProtocolError, \u001b[38;5;167;01mOSError\u001b[39;00m) \u001b[38;5;28;01mas\u001b[39;00m err:\n",
      "File \u001b[0;32m/Volumes/home/Learn/Master/3.LLMs/rag_pipeline/.venv/lib/python3.11/site-packages/urllib3/connectionpool.py:843\u001b[0m, in \u001b[0;36mHTTPConnectionPool.urlopen\u001b[0;34m(self, method, url, body, headers, retries, redirect, assert_same_host, timeout, pool_timeout, release_conn, chunked, body_pos, preload_content, decode_content, **response_kw)\u001b[0m\n\u001b[1;32m    841\u001b[0m     new_e \u001b[38;5;241m=\u001b[39m ProtocolError(\u001b[38;5;124m\"\u001b[39m\u001b[38;5;124mConnection aborted.\u001b[39m\u001b[38;5;124m\"\u001b[39m, new_e)\n\u001b[0;32m--> 843\u001b[0m retries \u001b[38;5;241m=\u001b[39m \u001b[43mretries\u001b[49m\u001b[38;5;241;43m.\u001b[39;49m\u001b[43mincrement\u001b[49m\u001b[43m(\u001b[49m\n\u001b[1;32m    844\u001b[0m \u001b[43m    \u001b[49m\u001b[43mmethod\u001b[49m\u001b[43m,\u001b[49m\u001b[43m \u001b[49m\u001b[43murl\u001b[49m\u001b[43m,\u001b[49m\u001b[43m \u001b[49m\u001b[43merror\u001b[49m\u001b[38;5;241;43m=\u001b[39;49m\u001b[43mnew_e\u001b[49m\u001b[43m,\u001b[49m\u001b[43m \u001b[49m\u001b[43m_pool\u001b[49m\u001b[38;5;241;43m=\u001b[39;49m\u001b[38;5;28;43mself\u001b[39;49m\u001b[43m,\u001b[49m\u001b[43m \u001b[49m\u001b[43m_stacktrace\u001b[49m\u001b[38;5;241;43m=\u001b[39;49m\u001b[43msys\u001b[49m\u001b[38;5;241;43m.\u001b[39;49m\u001b[43mexc_info\u001b[49m\u001b[43m(\u001b[49m\u001b[43m)\u001b[49m\u001b[43m[\u001b[49m\u001b[38;5;241;43m2\u001b[39;49m\u001b[43m]\u001b[49m\n\u001b[1;32m    845\u001b[0m \u001b[43m\u001b[49m\u001b[43m)\u001b[49m\n\u001b[1;32m    846\u001b[0m retries\u001b[38;5;241m.\u001b[39msleep()\n",
      "File \u001b[0;32m/Volumes/home/Learn/Master/3.LLMs/rag_pipeline/.venv/lib/python3.11/site-packages/urllib3/util/retry.py:519\u001b[0m, in \u001b[0;36mRetry.increment\u001b[0;34m(self, method, url, response, error, _pool, _stacktrace)\u001b[0m\n\u001b[1;32m    518\u001b[0m     reason \u001b[38;5;241m=\u001b[39m error \u001b[38;5;129;01mor\u001b[39;00m ResponseError(cause)\n\u001b[0;32m--> 519\u001b[0m     \u001b[38;5;28;01mraise\u001b[39;00m MaxRetryError(_pool, url, reason) \u001b[38;5;28;01mfrom\u001b[39;00m \u001b[38;5;21;01mreason\u001b[39;00m  \u001b[38;5;66;03m# type: ignore[arg-type]\u001b[39;00m\n\u001b[1;32m    521\u001b[0m log\u001b[38;5;241m.\u001b[39mdebug(\u001b[38;5;124m\"\u001b[39m\u001b[38;5;124mIncremented Retry for (url=\u001b[39m\u001b[38;5;124m'\u001b[39m\u001b[38;5;132;01m%s\u001b[39;00m\u001b[38;5;124m'\u001b[39m\u001b[38;5;124m): \u001b[39m\u001b[38;5;132;01m%r\u001b[39;00m\u001b[38;5;124m\"\u001b[39m, url, new_retry)\n",
      "\u001b[0;31mMaxRetryError\u001b[0m: HTTPSConnectionPool(host='huggingface.co', port=443): Max retries exceeded with url: /BAAI/bge-m3/resolve/main/model.safetensors (Caused by NameResolutionError(\"<urllib3.connection.HTTPSConnection object at 0x34a75f610>: Failed to resolve 'huggingface.co' ([Errno 8] nodename nor servname provided, or not known)\"))",
      "\nDuring handling of the above exception, another exception occurred:\n",
      "\u001b[0;31mConnectionError\u001b[0m                           Traceback (most recent call last)",
      "Cell \u001b[0;32mIn[72], line 2\u001b[0m\n\u001b[1;32m      1\u001b[0m query \u001b[38;5;241m=\u001b[39m \u001b[38;5;124m\"\u001b[39m\u001b[38;5;124mTìm quyết định  2498/QĐ-UBND năm 2018 \u001b[39m\u001b[38;5;124m\"\u001b[39m\n\u001b[0;32m----> 2\u001b[0m \u001b[43mdynamic_embedding_model\u001b[49m\u001b[43m(\u001b[49m\u001b[43mquery\u001b[49m\u001b[43m,\u001b[49m\u001b[38;5;124;43m'\u001b[39;49m\u001b[38;5;124;43mBAAI/bge-m3\u001b[39;49m\u001b[38;5;124;43m'\u001b[39;49m\u001b[43m)\u001b[49m\n",
      "Cell \u001b[0;32mIn[69], line 2\u001b[0m, in \u001b[0;36mdynamic_embedding_model\u001b[0;34m(query, model)\u001b[0m\n\u001b[1;32m      1\u001b[0m \u001b[38;5;28;01mdef\u001b[39;00m \u001b[38;5;21mdynamic_embedding_model\u001b[39m(query,model):\n\u001b[0;32m----> 2\u001b[0m   embeddings \u001b[38;5;241m=\u001b[39m \u001b[43mHuggingFaceEmbeddings\u001b[49m\u001b[43m(\u001b[49m\u001b[43mmodel_name\u001b[49m\u001b[38;5;241;43m=\u001b[39;49m\u001b[43mmodel\u001b[49m\u001b[43m)\u001b[49m\n\u001b[1;32m      3\u001b[0m   vectorstore \u001b[38;5;241m=\u001b[39m FAISS\u001b[38;5;241m.\u001b[39mfrom_documents(documents, embeddings)\n\u001b[1;32m      5\u001b[0m   result_search \u001b[38;5;241m=\u001b[39m vectorstore\u001b[38;5;241m.\u001b[39msimilarity_search(query)\n",
      "File \u001b[0;32m/Volumes/home/Learn/Master/3.LLMs/rag_pipeline/.venv/lib/python3.11/site-packages/langchain_huggingface/embeddings/huggingface.py:61\u001b[0m, in \u001b[0;36mHuggingFaceEmbeddings.__init__\u001b[0;34m(self, **kwargs)\u001b[0m\n\u001b[1;32m     55\u001b[0m \u001b[38;5;28;01mexcept\u001b[39;00m \u001b[38;5;167;01mImportError\u001b[39;00m \u001b[38;5;28;01mas\u001b[39;00m exc:\n\u001b[1;32m     56\u001b[0m     \u001b[38;5;28;01mraise\u001b[39;00m \u001b[38;5;167;01mImportError\u001b[39;00m(\n\u001b[1;32m     57\u001b[0m         \u001b[38;5;124m\"\u001b[39m\u001b[38;5;124mCould not import sentence_transformers python package. \u001b[39m\u001b[38;5;124m\"\u001b[39m\n\u001b[1;32m     58\u001b[0m         \u001b[38;5;124m\"\u001b[39m\u001b[38;5;124mPlease install it with `pip install sentence-transformers`.\u001b[39m\u001b[38;5;124m\"\u001b[39m\n\u001b[1;32m     59\u001b[0m     ) \u001b[38;5;28;01mfrom\u001b[39;00m \u001b[38;5;21;01mexc\u001b[39;00m\n\u001b[0;32m---> 61\u001b[0m \u001b[38;5;28mself\u001b[39m\u001b[38;5;241m.\u001b[39mclient \u001b[38;5;241m=\u001b[39m \u001b[43msentence_transformers\u001b[49m\u001b[38;5;241;43m.\u001b[39;49m\u001b[43mSentenceTransformer\u001b[49m\u001b[43m(\u001b[49m\n\u001b[1;32m     62\u001b[0m \u001b[43m    \u001b[49m\u001b[38;5;28;43mself\u001b[39;49m\u001b[38;5;241;43m.\u001b[39;49m\u001b[43mmodel_name\u001b[49m\u001b[43m,\u001b[49m\u001b[43m \u001b[49m\u001b[43mcache_folder\u001b[49m\u001b[38;5;241;43m=\u001b[39;49m\u001b[38;5;28;43mself\u001b[39;49m\u001b[38;5;241;43m.\u001b[39;49m\u001b[43mcache_folder\u001b[49m\u001b[43m,\u001b[49m\u001b[43m \u001b[49m\u001b[38;5;241;43m*\u001b[39;49m\u001b[38;5;241;43m*\u001b[39;49m\u001b[38;5;28;43mself\u001b[39;49m\u001b[38;5;241;43m.\u001b[39;49m\u001b[43mmodel_kwargs\u001b[49m\n\u001b[1;32m     63\u001b[0m \u001b[43m\u001b[49m\u001b[43m)\u001b[49m\n",
      "File \u001b[0;32m/Volumes/home/Learn/Master/3.LLMs/rag_pipeline/.venv/lib/python3.11/site-packages/sentence_transformers/SentenceTransformer.py:287\u001b[0m, in \u001b[0;36mSentenceTransformer.__init__\u001b[0;34m(self, model_name_or_path, modules, device, prompts, default_prompt_name, similarity_fn_name, cache_folder, trust_remote_code, revision, local_files_only, token, use_auth_token, truncate_dim, model_kwargs, tokenizer_kwargs, config_kwargs, model_card_data)\u001b[0m\n\u001b[1;32m    278\u001b[0m         model_name_or_path \u001b[38;5;241m=\u001b[39m __MODEL_HUB_ORGANIZATION__ \u001b[38;5;241m+\u001b[39m \u001b[38;5;124m\"\u001b[39m\u001b[38;5;124m/\u001b[39m\u001b[38;5;124m\"\u001b[39m \u001b[38;5;241m+\u001b[39m model_name_or_path\n\u001b[1;32m    280\u001b[0m \u001b[38;5;28;01mif\u001b[39;00m is_sentence_transformer_model(\n\u001b[1;32m    281\u001b[0m     model_name_or_path,\n\u001b[1;32m    282\u001b[0m     token,\n\u001b[0;32m   (...)\u001b[0m\n\u001b[1;32m    285\u001b[0m     local_files_only\u001b[38;5;241m=\u001b[39mlocal_files_only,\n\u001b[1;32m    286\u001b[0m ):\n\u001b[0;32m--> 287\u001b[0m     modules \u001b[38;5;241m=\u001b[39m \u001b[38;5;28;43mself\u001b[39;49m\u001b[38;5;241;43m.\u001b[39;49m\u001b[43m_load_sbert_model\u001b[49m\u001b[43m(\u001b[49m\n\u001b[1;32m    288\u001b[0m \u001b[43m        \u001b[49m\u001b[43mmodel_name_or_path\u001b[49m\u001b[43m,\u001b[49m\n\u001b[1;32m    289\u001b[0m \u001b[43m        \u001b[49m\u001b[43mtoken\u001b[49m\u001b[38;5;241;43m=\u001b[39;49m\u001b[43mtoken\u001b[49m\u001b[43m,\u001b[49m\n\u001b[1;32m    290\u001b[0m \u001b[43m        \u001b[49m\u001b[43mcache_folder\u001b[49m\u001b[38;5;241;43m=\u001b[39;49m\u001b[43mcache_folder\u001b[49m\u001b[43m,\u001b[49m\n\u001b[1;32m    291\u001b[0m \u001b[43m        \u001b[49m\u001b[43mrevision\u001b[49m\u001b[38;5;241;43m=\u001b[39;49m\u001b[43mrevision\u001b[49m\u001b[43m,\u001b[49m\n\u001b[1;32m    292\u001b[0m \u001b[43m        \u001b[49m\u001b[43mtrust_remote_code\u001b[49m\u001b[38;5;241;43m=\u001b[39;49m\u001b[43mtrust_remote_code\u001b[49m\u001b[43m,\u001b[49m\n\u001b[1;32m    293\u001b[0m \u001b[43m        \u001b[49m\u001b[43mlocal_files_only\u001b[49m\u001b[38;5;241;43m=\u001b[39;49m\u001b[43mlocal_files_only\u001b[49m\u001b[43m,\u001b[49m\n\u001b[1;32m    294\u001b[0m \u001b[43m        \u001b[49m\u001b[43mmodel_kwargs\u001b[49m\u001b[38;5;241;43m=\u001b[39;49m\u001b[43mmodel_kwargs\u001b[49m\u001b[43m,\u001b[49m\n\u001b[1;32m    295\u001b[0m \u001b[43m        \u001b[49m\u001b[43mtokenizer_kwargs\u001b[49m\u001b[38;5;241;43m=\u001b[39;49m\u001b[43mtokenizer_kwargs\u001b[49m\u001b[43m,\u001b[49m\n\u001b[1;32m    296\u001b[0m \u001b[43m        \u001b[49m\u001b[43mconfig_kwargs\u001b[49m\u001b[38;5;241;43m=\u001b[39;49m\u001b[43mconfig_kwargs\u001b[49m\u001b[43m,\u001b[49m\n\u001b[1;32m    297\u001b[0m \u001b[43m    \u001b[49m\u001b[43m)\u001b[49m\n\u001b[1;32m    298\u001b[0m \u001b[38;5;28;01melse\u001b[39;00m:\n\u001b[1;32m    299\u001b[0m     modules \u001b[38;5;241m=\u001b[39m \u001b[38;5;28mself\u001b[39m\u001b[38;5;241m.\u001b[39m_load_auto_model(\n\u001b[1;32m    300\u001b[0m         model_name_or_path,\n\u001b[1;32m    301\u001b[0m         token\u001b[38;5;241m=\u001b[39mtoken,\n\u001b[0;32m   (...)\u001b[0m\n\u001b[1;32m    308\u001b[0m         config_kwargs\u001b[38;5;241m=\u001b[39mconfig_kwargs,\n\u001b[1;32m    309\u001b[0m     )\n",
      "File \u001b[0;32m/Volumes/home/Learn/Master/3.LLMs/rag_pipeline/.venv/lib/python3.11/site-packages/sentence_transformers/SentenceTransformer.py:1487\u001b[0m, in \u001b[0;36mSentenceTransformer._load_sbert_model\u001b[0;34m(self, model_name_or_path, token, cache_folder, revision, trust_remote_code, local_files_only, model_kwargs, tokenizer_kwargs, config_kwargs)\u001b[0m\n\u001b[1;32m   1484\u001b[0m     \u001b[38;5;28;01mif\u001b[39;00m config_kwargs:\n\u001b[1;32m   1485\u001b[0m         kwargs[\u001b[38;5;124m\"\u001b[39m\u001b[38;5;124mconfig_args\u001b[39m\u001b[38;5;124m\"\u001b[39m]\u001b[38;5;241m.\u001b[39mupdate(config_kwargs)\n\u001b[0;32m-> 1487\u001b[0m     module \u001b[38;5;241m=\u001b[39m \u001b[43mTransformer\u001b[49m\u001b[43m(\u001b[49m\u001b[43mmodel_name_or_path\u001b[49m\u001b[43m,\u001b[49m\u001b[43m \u001b[49m\u001b[43mcache_dir\u001b[49m\u001b[38;5;241;43m=\u001b[39;49m\u001b[43mcache_folder\u001b[49m\u001b[43m,\u001b[49m\u001b[43m \u001b[49m\u001b[38;5;241;43m*\u001b[39;49m\u001b[38;5;241;43m*\u001b[39;49m\u001b[43mkwargs\u001b[49m\u001b[43m)\u001b[49m\n\u001b[1;32m   1488\u001b[0m \u001b[38;5;28;01melse\u001b[39;00m:\n\u001b[1;32m   1489\u001b[0m     \u001b[38;5;66;03m# Normalize does not require any files to be loaded\u001b[39;00m\n\u001b[1;32m   1490\u001b[0m     \u001b[38;5;28;01mif\u001b[39;00m module_class \u001b[38;5;241m==\u001b[39m Normalize:\n",
      "File \u001b[0;32m/Volumes/home/Learn/Master/3.LLMs/rag_pipeline/.venv/lib/python3.11/site-packages/sentence_transformers/models/Transformer.py:54\u001b[0m, in \u001b[0;36mTransformer.__init__\u001b[0;34m(self, model_name_or_path, max_seq_length, model_args, tokenizer_args, config_args, cache_dir, do_lower_case, tokenizer_name_or_path)\u001b[0m\n\u001b[1;32m     51\u001b[0m     config_args \u001b[38;5;241m=\u001b[39m {}\n\u001b[1;32m     53\u001b[0m config \u001b[38;5;241m=\u001b[39m AutoConfig\u001b[38;5;241m.\u001b[39mfrom_pretrained(model_name_or_path, \u001b[38;5;241m*\u001b[39m\u001b[38;5;241m*\u001b[39mconfig_args, cache_dir\u001b[38;5;241m=\u001b[39mcache_dir)\n\u001b[0;32m---> 54\u001b[0m \u001b[38;5;28;43mself\u001b[39;49m\u001b[38;5;241;43m.\u001b[39;49m\u001b[43m_load_model\u001b[49m\u001b[43m(\u001b[49m\u001b[43mmodel_name_or_path\u001b[49m\u001b[43m,\u001b[49m\u001b[43m \u001b[49m\u001b[43mconfig\u001b[49m\u001b[43m,\u001b[49m\u001b[43m \u001b[49m\u001b[43mcache_dir\u001b[49m\u001b[43m,\u001b[49m\u001b[43m \u001b[49m\u001b[38;5;241;43m*\u001b[39;49m\u001b[38;5;241;43m*\u001b[39;49m\u001b[43mmodel_args\u001b[49m\u001b[43m)\u001b[49m\n\u001b[1;32m     56\u001b[0m \u001b[38;5;28;01mif\u001b[39;00m max_seq_length \u001b[38;5;129;01mis\u001b[39;00m \u001b[38;5;129;01mnot\u001b[39;00m \u001b[38;5;28;01mNone\u001b[39;00m \u001b[38;5;129;01mand\u001b[39;00m \u001b[38;5;124m\"\u001b[39m\u001b[38;5;124mmodel_max_length\u001b[39m\u001b[38;5;124m\"\u001b[39m \u001b[38;5;129;01mnot\u001b[39;00m \u001b[38;5;129;01min\u001b[39;00m tokenizer_args:\n\u001b[1;32m     57\u001b[0m     tokenizer_args[\u001b[38;5;124m\"\u001b[39m\u001b[38;5;124mmodel_max_length\u001b[39m\u001b[38;5;124m\"\u001b[39m] \u001b[38;5;241m=\u001b[39m max_seq_length\n",
      "File \u001b[0;32m/Volumes/home/Learn/Master/3.LLMs/rag_pipeline/.venv/lib/python3.11/site-packages/sentence_transformers/models/Transformer.py:85\u001b[0m, in \u001b[0;36mTransformer._load_model\u001b[0;34m(self, model_name_or_path, config, cache_dir, **model_args)\u001b[0m\n\u001b[1;32m     83\u001b[0m     \u001b[38;5;28mself\u001b[39m\u001b[38;5;241m.\u001b[39m_load_mt5_model(model_name_or_path, config, cache_dir, \u001b[38;5;241m*\u001b[39m\u001b[38;5;241m*\u001b[39mmodel_args)\n\u001b[1;32m     84\u001b[0m \u001b[38;5;28;01melse\u001b[39;00m:\n\u001b[0;32m---> 85\u001b[0m     \u001b[38;5;28mself\u001b[39m\u001b[38;5;241m.\u001b[39mauto_model \u001b[38;5;241m=\u001b[39m \u001b[43mAutoModel\u001b[49m\u001b[38;5;241;43m.\u001b[39;49m\u001b[43mfrom_pretrained\u001b[49m\u001b[43m(\u001b[49m\n\u001b[1;32m     86\u001b[0m \u001b[43m        \u001b[49m\u001b[43mmodel_name_or_path\u001b[49m\u001b[43m,\u001b[49m\u001b[43m \u001b[49m\u001b[43mconfig\u001b[49m\u001b[38;5;241;43m=\u001b[39;49m\u001b[43mconfig\u001b[49m\u001b[43m,\u001b[49m\u001b[43m \u001b[49m\u001b[43mcache_dir\u001b[49m\u001b[38;5;241;43m=\u001b[39;49m\u001b[43mcache_dir\u001b[49m\u001b[43m,\u001b[49m\u001b[43m \u001b[49m\u001b[38;5;241;43m*\u001b[39;49m\u001b[38;5;241;43m*\u001b[39;49m\u001b[43mmodel_args\u001b[49m\n\u001b[1;32m     87\u001b[0m \u001b[43m    \u001b[49m\u001b[43m)\u001b[49m\n",
      "File \u001b[0;32m/Volumes/home/Learn/Master/3.LLMs/rag_pipeline/.venv/lib/python3.11/site-packages/transformers/models/auto/auto_factory.py:564\u001b[0m, in \u001b[0;36m_BaseAutoModelClass.from_pretrained\u001b[0;34m(cls, pretrained_model_name_or_path, *model_args, **kwargs)\u001b[0m\n\u001b[1;32m    562\u001b[0m \u001b[38;5;28;01melif\u001b[39;00m \u001b[38;5;28mtype\u001b[39m(config) \u001b[38;5;129;01min\u001b[39;00m \u001b[38;5;28mcls\u001b[39m\u001b[38;5;241m.\u001b[39m_model_mapping\u001b[38;5;241m.\u001b[39mkeys():\n\u001b[1;32m    563\u001b[0m     model_class \u001b[38;5;241m=\u001b[39m _get_model_class(config, \u001b[38;5;28mcls\u001b[39m\u001b[38;5;241m.\u001b[39m_model_mapping)\n\u001b[0;32m--> 564\u001b[0m     \u001b[38;5;28;01mreturn\u001b[39;00m \u001b[43mmodel_class\u001b[49m\u001b[38;5;241;43m.\u001b[39;49m\u001b[43mfrom_pretrained\u001b[49m\u001b[43m(\u001b[49m\n\u001b[1;32m    565\u001b[0m \u001b[43m        \u001b[49m\u001b[43mpretrained_model_name_or_path\u001b[49m\u001b[43m,\u001b[49m\u001b[43m \u001b[49m\u001b[38;5;241;43m*\u001b[39;49m\u001b[43mmodel_args\u001b[49m\u001b[43m,\u001b[49m\u001b[43m \u001b[49m\u001b[43mconfig\u001b[49m\u001b[38;5;241;43m=\u001b[39;49m\u001b[43mconfig\u001b[49m\u001b[43m,\u001b[49m\u001b[43m \u001b[49m\u001b[38;5;241;43m*\u001b[39;49m\u001b[38;5;241;43m*\u001b[39;49m\u001b[43mhub_kwargs\u001b[49m\u001b[43m,\u001b[49m\u001b[43m \u001b[49m\u001b[38;5;241;43m*\u001b[39;49m\u001b[38;5;241;43m*\u001b[39;49m\u001b[43mkwargs\u001b[49m\n\u001b[1;32m    566\u001b[0m \u001b[43m    \u001b[49m\u001b[43m)\u001b[49m\n\u001b[1;32m    567\u001b[0m \u001b[38;5;28;01mraise\u001b[39;00m \u001b[38;5;167;01mValueError\u001b[39;00m(\n\u001b[1;32m    568\u001b[0m     \u001b[38;5;124mf\u001b[39m\u001b[38;5;124m\"\u001b[39m\u001b[38;5;124mUnrecognized configuration class \u001b[39m\u001b[38;5;132;01m{\u001b[39;00mconfig\u001b[38;5;241m.\u001b[39m\u001b[38;5;18m__class__\u001b[39m\u001b[38;5;132;01m}\u001b[39;00m\u001b[38;5;124m for this kind of AutoModel: \u001b[39m\u001b[38;5;132;01m{\u001b[39;00m\u001b[38;5;28mcls\u001b[39m\u001b[38;5;241m.\u001b[39m\u001b[38;5;18m__name__\u001b[39m\u001b[38;5;132;01m}\u001b[39;00m\u001b[38;5;124m.\u001b[39m\u001b[38;5;130;01m\\n\u001b[39;00m\u001b[38;5;124m\"\u001b[39m\n\u001b[1;32m    569\u001b[0m     \u001b[38;5;124mf\u001b[39m\u001b[38;5;124m\"\u001b[39m\u001b[38;5;124mModel type should be one of \u001b[39m\u001b[38;5;132;01m{\u001b[39;00m\u001b[38;5;124m'\u001b[39m\u001b[38;5;124m, \u001b[39m\u001b[38;5;124m'\u001b[39m\u001b[38;5;241m.\u001b[39mjoin(c\u001b[38;5;241m.\u001b[39m\u001b[38;5;18m__name__\u001b[39m\u001b[38;5;250m \u001b[39m\u001b[38;5;28;01mfor\u001b[39;00m\u001b[38;5;250m \u001b[39mc\u001b[38;5;250m \u001b[39m\u001b[38;5;129;01min\u001b[39;00m\u001b[38;5;250m \u001b[39m\u001b[38;5;28mcls\u001b[39m\u001b[38;5;241m.\u001b[39m_model_mapping\u001b[38;5;241m.\u001b[39mkeys())\u001b[38;5;132;01m}\u001b[39;00m\u001b[38;5;124m.\u001b[39m\u001b[38;5;124m\"\u001b[39m\n\u001b[1;32m    570\u001b[0m )\n",
      "File \u001b[0;32m/Volumes/home/Learn/Master/3.LLMs/rag_pipeline/.venv/lib/python3.11/site-packages/transformers/modeling_utils.py:3616\u001b[0m, in \u001b[0;36mPreTrainedModel.from_pretrained\u001b[0;34m(cls, pretrained_model_name_or_path, config, cache_dir, ignore_mismatched_sizes, force_download, local_files_only, token, revision, use_safetensors, *model_args, **kwargs)\u001b[0m\n\u001b[1;32m   3597\u001b[0m         has_file_kwargs \u001b[38;5;241m=\u001b[39m {\n\u001b[1;32m   3598\u001b[0m             \u001b[38;5;124m\"\u001b[39m\u001b[38;5;124mrevision\u001b[39m\u001b[38;5;124m\"\u001b[39m: revision,\n\u001b[1;32m   3599\u001b[0m             \u001b[38;5;124m\"\u001b[39m\u001b[38;5;124mproxies\u001b[39m\u001b[38;5;124m\"\u001b[39m: proxies,\n\u001b[0;32m   (...)\u001b[0m\n\u001b[1;32m   3602\u001b[0m             \u001b[38;5;124m\"\u001b[39m\u001b[38;5;124mlocal_files_only\u001b[39m\u001b[38;5;124m\"\u001b[39m: local_files_only,\n\u001b[1;32m   3603\u001b[0m         }\n\u001b[1;32m   3604\u001b[0m         cached_file_kwargs \u001b[38;5;241m=\u001b[39m {\n\u001b[1;32m   3605\u001b[0m             \u001b[38;5;124m\"\u001b[39m\u001b[38;5;124mcache_dir\u001b[39m\u001b[38;5;124m\"\u001b[39m: cache_dir,\n\u001b[1;32m   3606\u001b[0m             \u001b[38;5;124m\"\u001b[39m\u001b[38;5;124mforce_download\u001b[39m\u001b[38;5;124m\"\u001b[39m: force_download,\n\u001b[0;32m   (...)\u001b[0m\n\u001b[1;32m   3614\u001b[0m             \u001b[38;5;241m*\u001b[39m\u001b[38;5;241m*\u001b[39mhas_file_kwargs,\n\u001b[1;32m   3615\u001b[0m         }\n\u001b[0;32m-> 3616\u001b[0m         \u001b[38;5;28;01mif\u001b[39;00m \u001b[38;5;129;01mnot\u001b[39;00m \u001b[43mhas_file\u001b[49m\u001b[43m(\u001b[49m\u001b[43mpretrained_model_name_or_path\u001b[49m\u001b[43m,\u001b[49m\u001b[43m \u001b[49m\u001b[43msafe_weights_name\u001b[49m\u001b[43m,\u001b[49m\u001b[43m \u001b[49m\u001b[38;5;241;43m*\u001b[39;49m\u001b[38;5;241;43m*\u001b[39;49m\u001b[43mhas_file_kwargs\u001b[49m\u001b[43m)\u001b[49m:\n\u001b[1;32m   3617\u001b[0m             Thread(\n\u001b[1;32m   3618\u001b[0m                 target\u001b[38;5;241m=\u001b[39mauto_conversion,\n\u001b[1;32m   3619\u001b[0m                 args\u001b[38;5;241m=\u001b[39m(pretrained_model_name_or_path,),\n\u001b[1;32m   3620\u001b[0m                 kwargs\u001b[38;5;241m=\u001b[39m{\u001b[38;5;124m\"\u001b[39m\u001b[38;5;124mignore_errors_during_conversion\u001b[39m\u001b[38;5;124m\"\u001b[39m: \u001b[38;5;28;01mTrue\u001b[39;00m, \u001b[38;5;241m*\u001b[39m\u001b[38;5;241m*\u001b[39mcached_file_kwargs},\n\u001b[1;32m   3621\u001b[0m                 name\u001b[38;5;241m=\u001b[39m\u001b[38;5;124m\"\u001b[39m\u001b[38;5;124mThread-autoconversion\u001b[39m\u001b[38;5;124m\"\u001b[39m,\n\u001b[1;32m   3622\u001b[0m             )\u001b[38;5;241m.\u001b[39mstart()\n\u001b[1;32m   3623\u001b[0m \u001b[38;5;28;01melse\u001b[39;00m:\n\u001b[1;32m   3624\u001b[0m     \u001b[38;5;66;03m# Otherwise, no PyTorch file was found, maybe there is a TF or Flax model file.\u001b[39;00m\n\u001b[1;32m   3625\u001b[0m     \u001b[38;5;66;03m# We try those to give a helpful error message.\u001b[39;00m\n",
      "File \u001b[0;32m/Volumes/home/Learn/Master/3.LLMs/rag_pipeline/.venv/lib/python3.11/site-packages/transformers/utils/hub.py:655\u001b[0m, in \u001b[0;36mhas_file\u001b[0;34m(path_or_repo, filename, revision, proxies, token, local_files_only, cache_dir, repo_type, **deprecated_kwargs)\u001b[0m\n\u001b[1;32m    653\u001b[0m \u001b[38;5;66;03m# Check if the file exists\u001b[39;00m\n\u001b[1;32m    654\u001b[0m \u001b[38;5;28;01mtry\u001b[39;00m:\n\u001b[0;32m--> 655\u001b[0m     response \u001b[38;5;241m=\u001b[39m \u001b[43mget_session\u001b[49m\u001b[43m(\u001b[49m\u001b[43m)\u001b[49m\u001b[38;5;241;43m.\u001b[39;49m\u001b[43mhead\u001b[49m\u001b[43m(\u001b[49m\n\u001b[1;32m    656\u001b[0m \u001b[43m        \u001b[49m\u001b[43mhf_hub_url\u001b[49m\u001b[43m(\u001b[49m\u001b[43mpath_or_repo\u001b[49m\u001b[43m,\u001b[49m\u001b[43m \u001b[49m\u001b[43mfilename\u001b[49m\u001b[38;5;241;43m=\u001b[39;49m\u001b[43mfilename\u001b[49m\u001b[43m,\u001b[49m\u001b[43m \u001b[49m\u001b[43mrevision\u001b[49m\u001b[38;5;241;43m=\u001b[39;49m\u001b[43mrevision\u001b[49m\u001b[43m,\u001b[49m\u001b[43m \u001b[49m\u001b[43mrepo_type\u001b[49m\u001b[38;5;241;43m=\u001b[39;49m\u001b[43mrepo_type\u001b[49m\u001b[43m)\u001b[49m\u001b[43m,\u001b[49m\n\u001b[1;32m    657\u001b[0m \u001b[43m        \u001b[49m\u001b[43mheaders\u001b[49m\u001b[38;5;241;43m=\u001b[39;49m\u001b[43mbuild_hf_headers\u001b[49m\u001b[43m(\u001b[49m\u001b[43mtoken\u001b[49m\u001b[38;5;241;43m=\u001b[39;49m\u001b[43mtoken\u001b[49m\u001b[43m,\u001b[49m\u001b[43m \u001b[49m\u001b[43muser_agent\u001b[49m\u001b[38;5;241;43m=\u001b[39;49m\u001b[43mhttp_user_agent\u001b[49m\u001b[43m(\u001b[49m\u001b[43m)\u001b[49m\u001b[43m)\u001b[49m\u001b[43m,\u001b[49m\n\u001b[1;32m    658\u001b[0m \u001b[43m        \u001b[49m\u001b[43mallow_redirects\u001b[49m\u001b[38;5;241;43m=\u001b[39;49m\u001b[38;5;28;43;01mFalse\u001b[39;49;00m\u001b[43m,\u001b[49m\n\u001b[1;32m    659\u001b[0m \u001b[43m        \u001b[49m\u001b[43mproxies\u001b[49m\u001b[38;5;241;43m=\u001b[39;49m\u001b[43mproxies\u001b[49m\u001b[43m,\u001b[49m\n\u001b[1;32m    660\u001b[0m \u001b[43m        \u001b[49m\u001b[43mtimeout\u001b[49m\u001b[38;5;241;43m=\u001b[39;49m\u001b[38;5;241;43m10\u001b[39;49m\u001b[43m,\u001b[49m\n\u001b[1;32m    661\u001b[0m \u001b[43m    \u001b[49m\u001b[43m)\u001b[49m\n\u001b[1;32m    662\u001b[0m \u001b[38;5;28;01mexcept\u001b[39;00m OfflineModeIsEnabled:\n\u001b[1;32m    663\u001b[0m     \u001b[38;5;28;01mreturn\u001b[39;00m has_file_in_cache\n",
      "File \u001b[0;32m/Volumes/home/Learn/Master/3.LLMs/rag_pipeline/.venv/lib/python3.11/site-packages/requests/sessions.py:624\u001b[0m, in \u001b[0;36mSession.head\u001b[0;34m(self, url, **kwargs)\u001b[0m\n\u001b[1;32m    616\u001b[0m \u001b[38;5;250m\u001b[39m\u001b[38;5;124mr\u001b[39m\u001b[38;5;124;03m\"\"\"Sends a HEAD request. Returns :class:`Response` object.\u001b[39;00m\n\u001b[1;32m    617\u001b[0m \n\u001b[1;32m    618\u001b[0m \u001b[38;5;124;03m:param url: URL for the new :class:`Request` object.\u001b[39;00m\n\u001b[1;32m    619\u001b[0m \u001b[38;5;124;03m:param \\*\\*kwargs: Optional arguments that ``request`` takes.\u001b[39;00m\n\u001b[1;32m    620\u001b[0m \u001b[38;5;124;03m:rtype: requests.Response\u001b[39;00m\n\u001b[1;32m    621\u001b[0m \u001b[38;5;124;03m\"\"\"\u001b[39;00m\n\u001b[1;32m    623\u001b[0m kwargs\u001b[38;5;241m.\u001b[39msetdefault(\u001b[38;5;124m\"\u001b[39m\u001b[38;5;124mallow_redirects\u001b[39m\u001b[38;5;124m\"\u001b[39m, \u001b[38;5;28;01mFalse\u001b[39;00m)\n\u001b[0;32m--> 624\u001b[0m \u001b[38;5;28;01mreturn\u001b[39;00m \u001b[38;5;28;43mself\u001b[39;49m\u001b[38;5;241;43m.\u001b[39;49m\u001b[43mrequest\u001b[49m\u001b[43m(\u001b[49m\u001b[38;5;124;43m\"\u001b[39;49m\u001b[38;5;124;43mHEAD\u001b[39;49m\u001b[38;5;124;43m\"\u001b[39;49m\u001b[43m,\u001b[49m\u001b[43m \u001b[49m\u001b[43murl\u001b[49m\u001b[43m,\u001b[49m\u001b[43m \u001b[49m\u001b[38;5;241;43m*\u001b[39;49m\u001b[38;5;241;43m*\u001b[39;49m\u001b[43mkwargs\u001b[49m\u001b[43m)\u001b[49m\n",
      "File \u001b[0;32m/Volumes/home/Learn/Master/3.LLMs/rag_pipeline/.venv/lib/python3.11/site-packages/requests/sessions.py:589\u001b[0m, in \u001b[0;36mSession.request\u001b[0;34m(self, method, url, params, data, headers, cookies, files, auth, timeout, allow_redirects, proxies, hooks, stream, verify, cert, json)\u001b[0m\n\u001b[1;32m    584\u001b[0m send_kwargs \u001b[38;5;241m=\u001b[39m {\n\u001b[1;32m    585\u001b[0m     \u001b[38;5;124m\"\u001b[39m\u001b[38;5;124mtimeout\u001b[39m\u001b[38;5;124m\"\u001b[39m: timeout,\n\u001b[1;32m    586\u001b[0m     \u001b[38;5;124m\"\u001b[39m\u001b[38;5;124mallow_redirects\u001b[39m\u001b[38;5;124m\"\u001b[39m: allow_redirects,\n\u001b[1;32m    587\u001b[0m }\n\u001b[1;32m    588\u001b[0m send_kwargs\u001b[38;5;241m.\u001b[39mupdate(settings)\n\u001b[0;32m--> 589\u001b[0m resp \u001b[38;5;241m=\u001b[39m \u001b[38;5;28;43mself\u001b[39;49m\u001b[38;5;241;43m.\u001b[39;49m\u001b[43msend\u001b[49m\u001b[43m(\u001b[49m\u001b[43mprep\u001b[49m\u001b[43m,\u001b[49m\u001b[43m \u001b[49m\u001b[38;5;241;43m*\u001b[39;49m\u001b[38;5;241;43m*\u001b[39;49m\u001b[43msend_kwargs\u001b[49m\u001b[43m)\u001b[49m\n\u001b[1;32m    591\u001b[0m \u001b[38;5;28;01mreturn\u001b[39;00m resp\n",
      "File \u001b[0;32m/Volumes/home/Learn/Master/3.LLMs/rag_pipeline/.venv/lib/python3.11/site-packages/requests/sessions.py:703\u001b[0m, in \u001b[0;36mSession.send\u001b[0;34m(self, request, **kwargs)\u001b[0m\n\u001b[1;32m    700\u001b[0m start \u001b[38;5;241m=\u001b[39m preferred_clock()\n\u001b[1;32m    702\u001b[0m \u001b[38;5;66;03m# Send the request\u001b[39;00m\n\u001b[0;32m--> 703\u001b[0m r \u001b[38;5;241m=\u001b[39m \u001b[43madapter\u001b[49m\u001b[38;5;241;43m.\u001b[39;49m\u001b[43msend\u001b[49m\u001b[43m(\u001b[49m\u001b[43mrequest\u001b[49m\u001b[43m,\u001b[49m\u001b[43m \u001b[49m\u001b[38;5;241;43m*\u001b[39;49m\u001b[38;5;241;43m*\u001b[39;49m\u001b[43mkwargs\u001b[49m\u001b[43m)\u001b[49m\n\u001b[1;32m    705\u001b[0m \u001b[38;5;66;03m# Total elapsed time of the request (approximately)\u001b[39;00m\n\u001b[1;32m    706\u001b[0m elapsed \u001b[38;5;241m=\u001b[39m preferred_clock() \u001b[38;5;241m-\u001b[39m start\n",
      "File \u001b[0;32m/Volumes/home/Learn/Master/3.LLMs/rag_pipeline/.venv/lib/python3.11/site-packages/huggingface_hub/utils/_http.py:66\u001b[0m, in \u001b[0;36mUniqueRequestIdAdapter.send\u001b[0;34m(self, request, *args, **kwargs)\u001b[0m\n\u001b[1;32m     64\u001b[0m \u001b[38;5;250m\u001b[39m\u001b[38;5;124;03m\"\"\"Catch any RequestException to append request id to the error message for debugging.\"\"\"\u001b[39;00m\n\u001b[1;32m     65\u001b[0m \u001b[38;5;28;01mtry\u001b[39;00m:\n\u001b[0;32m---> 66\u001b[0m     \u001b[38;5;28;01mreturn\u001b[39;00m \u001b[38;5;28;43msuper\u001b[39;49m\u001b[43m(\u001b[49m\u001b[43m)\u001b[49m\u001b[38;5;241;43m.\u001b[39;49m\u001b[43msend\u001b[49m\u001b[43m(\u001b[49m\u001b[43mrequest\u001b[49m\u001b[43m,\u001b[49m\u001b[43m \u001b[49m\u001b[38;5;241;43m*\u001b[39;49m\u001b[43margs\u001b[49m\u001b[43m,\u001b[49m\u001b[43m \u001b[49m\u001b[38;5;241;43m*\u001b[39;49m\u001b[38;5;241;43m*\u001b[39;49m\u001b[43mkwargs\u001b[49m\u001b[43m)\u001b[49m\n\u001b[1;32m     67\u001b[0m \u001b[38;5;28;01mexcept\u001b[39;00m requests\u001b[38;5;241m.\u001b[39mRequestException \u001b[38;5;28;01mas\u001b[39;00m e:\n\u001b[1;32m     68\u001b[0m     request_id \u001b[38;5;241m=\u001b[39m request\u001b[38;5;241m.\u001b[39mheaders\u001b[38;5;241m.\u001b[39mget(X_AMZN_TRACE_ID)\n",
      "File \u001b[0;32m/Volumes/home/Learn/Master/3.LLMs/rag_pipeline/.venv/lib/python3.11/site-packages/requests/adapters.py:700\u001b[0m, in \u001b[0;36mHTTPAdapter.send\u001b[0;34m(self, request, stream, timeout, verify, cert, proxies)\u001b[0m\n\u001b[1;32m    696\u001b[0m     \u001b[38;5;28;01mif\u001b[39;00m \u001b[38;5;28misinstance\u001b[39m(e\u001b[38;5;241m.\u001b[39mreason, _SSLError):\n\u001b[1;32m    697\u001b[0m         \u001b[38;5;66;03m# This branch is for urllib3 v1.22 and later.\u001b[39;00m\n\u001b[1;32m    698\u001b[0m         \u001b[38;5;28;01mraise\u001b[39;00m SSLError(e, request\u001b[38;5;241m=\u001b[39mrequest)\n\u001b[0;32m--> 700\u001b[0m     \u001b[38;5;28;01mraise\u001b[39;00m \u001b[38;5;167;01mConnectionError\u001b[39;00m(e, request\u001b[38;5;241m=\u001b[39mrequest)\n\u001b[1;32m    702\u001b[0m \u001b[38;5;28;01mexcept\u001b[39;00m ClosedPoolError \u001b[38;5;28;01mas\u001b[39;00m e:\n\u001b[1;32m    703\u001b[0m     \u001b[38;5;28;01mraise\u001b[39;00m \u001b[38;5;167;01mConnectionError\u001b[39;00m(e, request\u001b[38;5;241m=\u001b[39mrequest)\n",
      "\u001b[0;31mConnectionError\u001b[0m: (MaxRetryError('HTTPSConnectionPool(host=\\'huggingface.co\\', port=443): Max retries exceeded with url: /BAAI/bge-m3/resolve/main/model.safetensors (Caused by NameResolutionError(\"<urllib3.connection.HTTPSConnection object at 0x34a75f610>: Failed to resolve \\'huggingface.co\\' ([Errno 8] nodename nor servname provided, or not known)\"))'), '(Request ID: e940c0a9-b2cc-4b95-a598-178e7a0dd94e)')"
     ]
    }
   ],
   "source": [
    " \n",
    "query = \"Tìm quyết định  2498/QĐ-UBND năm 2018 \"\n",
    "dynamic_embedding_model(query,'BAAI/bge-m3')"
   ]
  },
  {
   "cell_type": "markdown",
   "metadata": {},
   "source": [
    "# Q&A "
   ]
  },
  {
   "cell_type": "code",
   "execution_count": null,
   "metadata": {},
   "outputs": [],
   "source": [
    "# from fuzzywuzzy import process\n"
   ]
  },
  {
   "cell_type": "code",
   "execution_count": null,
   "metadata": {},
   "outputs": [],
   "source": [
    "# def get_faq_data():\n",
    "#     # Database connection parameters\n",
    "#     conn = create_connection()\n",
    "    \n",
    "#     # Query to fetch data\n",
    "#     query = \"SELECT question, answer FROM faq;\"\n",
    "    \n",
    "#     # Fetch data into a DataFrame\n",
    "#     df = pd.read_sql_query(query, conn)\n",
    "    \n",
    "#     # Close the connection\n",
    "#     conn.close()\n",
    "    \n",
    "#     return df\n",
    "\n",
    "# df = get_faq_data()\n",
    "# df.head()"
   ]
  },
  {
   "cell_type": "code",
   "execution_count": null,
   "metadata": {},
   "outputs": [],
   "source": [
    "\n",
    "# # Convert DataFrame to Document objects\n",
    "# def convert_df_to_documents(df):\n",
    "#     documents = [\n",
    "#         Document(\n",
    "#             page_content=f\"question: {row.question}\",  # or combine other fields if needed\n",
    "#             metadata={\n",
    "#                 'question': row['question'],\n",
    "#                 'answer': row['answer'],\n",
    "#             }\n",
    "#         )\n",
    "#         for _, row in df.iterrows()\n",
    "#     ]\n",
    "#     return documents\n"
   ]
  },
  {
   "cell_type": "code",
   "execution_count": null,
   "metadata": {},
   "outputs": [],
   "source": [
    "# question_documents = convert_df_to_documents(df)"
   ]
  },
  {
   "cell_type": "code",
   "execution_count": null,
   "metadata": {},
   "outputs": [],
   "source": [
    "# from sentence_transformers import SentenceTransformer, util\n",
    "# import numpy as np\n",
    "# import torch\n",
    "\n",
    "# # Initialize HuggingFaceEmbeddings\n",
    "# model_name = \"sentence-transformers/all-MiniLM-L6-v2\"\n",
    "# embedding_model = HuggingFaceEmbeddings(model_name=model_name)\n",
    "\n",
    "# # Initialize FAISS vector store\n",
    "# vector_store = FAISS.from_documents(question_documents, embedding_model)\n"
   ]
  },
  {
   "cell_type": "code",
   "execution_count": null,
   "metadata": {},
   "outputs": [],
   "source": [
    "# def search_similar_question(user_query):\n",
    "\n",
    "#     # Find the most similar question\n",
    "#     search_results = vector_store.similarity_search(user_query)\n",
    "    \n",
    "    \n",
    "#     return [{'question': item.metadata['question'],'answer': item.metadata['answer'] } for item in search_results]\n",
    "    \n",
    "#     # else:\n",
    "#     #     return \"Sorry, I couldn't find a similar question.\"\n"
   ]
  },
  {
   "cell_type": "markdown",
   "metadata": {},
   "source": [
    "## Search "
   ]
  },
  {
   "cell_type": "code",
   "execution_count": null,
   "metadata": {},
   "outputs": [],
   "source": [
    "# # Example usage\n",
    "# user_query = \"delivery\"\n",
    "# search_similar_question(user_query)"
   ]
  },
  {
   "cell_type": "code",
   "execution_count": null,
   "metadata": {},
   "outputs": [
    {
     "name": "stderr",
     "output_type": "stream",
     "text": [
      "Fetching 30 files: 100%|██████████| 30/30 [00:00<00:00, 10625.66it/s]\n",
      "/Volumes/home/Learn/Master/3.LLMs/rag_pipeline/.venv/lib/python3.11/site-packages/FlagEmbedding/BGE_M3/modeling.py:335: FutureWarning: You are using `torch.load` with `weights_only=False` (the current default value), which uses the default pickle module implicitly. It is possible to construct malicious pickle data which will execute arbitrary code during unpickling (See https://github.com/pytorch/pytorch/blob/main/SECURITY.md#untrusted-models for more details). In a future release, the default value for `weights_only` will be flipped to `True`. This limits the functions that could be executed during unpickling. Arbitrary objects will no longer be allowed to be loaded via this mode unless they are explicitly allowlisted by the user via `torch.serialization.add_safe_globals`. We recommend you start setting `weights_only=True` for any use case where you don't have full control of the loaded file. Please open an issue on GitHub for any issues related to this experimental feature.\n",
      "  colbert_state_dict = torch.load(os.path.join(model_dir, 'colbert_linear.pt'), map_location='cpu')\n",
      "/Volumes/home/Learn/Master/3.LLMs/rag_pipeline/.venv/lib/python3.11/site-packages/FlagEmbedding/BGE_M3/modeling.py:336: FutureWarning: You are using `torch.load` with `weights_only=False` (the current default value), which uses the default pickle module implicitly. It is possible to construct malicious pickle data which will execute arbitrary code during unpickling (See https://github.com/pytorch/pytorch/blob/main/SECURITY.md#untrusted-models for more details). In a future release, the default value for `weights_only` will be flipped to `True`. This limits the functions that could be executed during unpickling. Arbitrary objects will no longer be allowed to be loaded via this mode unless they are explicitly allowlisted by the user via `torch.serialization.add_safe_globals`. We recommend you start setting `weights_only=True` for any use case where you don't have full control of the loaded file. Please open an issue on GitHub for any issues related to this experimental feature.\n",
      "  sparse_state_dict = torch.load(os.path.join(model_dir, 'sparse_linear.pt'), map_location='cpu')\n"
     ]
    },
    {
     "name": "stdout",
     "output_type": "stream",
     "text": [
      "[[0.626  0.3474]\n",
      " [0.3499 0.678 ]]\n"
     ]
    }
   ],
   "source": [
    "# from FlagEmbedding import BGEM3FlagModel\n",
    "\n",
    "# model = BGEM3FlagModel('BAAI/bge-m3',  \n",
    "#                        use_fp16=True) # Setting use_fp16 to True speeds up computation with a slight performance degradation\n",
    "\n",
    "# sentences_1 = [\"What is BGE M3?\", \"Defination of BM25\"]\n",
    "# sentences_2 = [\"BGE M3 is an embedding model supporting dense retrieval, lexical matching and multi-vector interaction.\", \n",
    "#                \"BM25 is a bag-of-words retrieval function that ranks a set of documents based on the query terms appearing in each document\"]\n",
    "\n",
    "# embeddings_1 = model.encode(sentences_1, \n",
    "#                             batch_size=12, \n",
    "#                             max_length=8192, # If you don't need such a long length, you can set a smaller value to speed up the encoding process.\n",
    "#                             )['dense_vecs']\n",
    "# embeddings_2 = model.encode(sentences_2)['dense_vecs']\n",
    "# similarity = embeddings_1 @ embeddings_2.T\n",
    "# print(similarity)\n",
    "# # [[0.6265, 0.3477], [0.3499, 0.678 ]]\n"
   ]
  },
  {
   "cell_type": "markdown",
   "metadata": {},
   "source": [
    "## Milvus Integrate"
   ]
  },
  {
   "cell_type": "code",
   "execution_count": 1,
   "metadata": {},
   "outputs": [],
   "source": [
    "from pymilvus import MilvusClient\n",
    "\n",
    "client = MilvusClient(\"milvus.db\")"
   ]
  },
  {
   "cell_type": "code",
   "execution_count": 2,
   "metadata": {},
   "outputs": [],
   "source": [
    "if client.has_collection(collection_name=\"demo_collection\"):\n",
    "    client.drop_collection(collection_name=\"demo_collection\")\n",
    "client.create_collection(\n",
    "        collection_name=\"demo_collection\",\n",
    "        dimension=768,  # The vectors we will use in this demo has 768 dimensions\n",
    ")\n"
   ]
  },
  {
   "cell_type": "code",
   "execution_count": null,
   "metadata": {},
   "outputs": [],
   "source": []
  },
  {
   "cell_type": "code",
   "execution_count": 16,
   "metadata": {},
   "outputs": [
    {
     "name": "stderr",
     "output_type": "stream",
     "text": [
      "/Volumes/home/Learn/Master/3.LLMs/rag_pipeline/.venv/lib/python3.11/site-packages/transformers/tokenization_utils_base.py:1601: FutureWarning: `clean_up_tokenization_spaces` was not set. It will be set to `True` by default. This behavior will be depracted in transformers v4.45, and will be then set to `False` by default. For more details check this issue: https://github.com/huggingface/transformers/issues/31884\n",
      "  warnings.warn(\n"
     ]
    },
    {
     "name": "stdout",
     "output_type": "stream",
     "text": [
      "Dim: 768 (768,)\n",
      "Data has 3 entities, each with fields:  dict_keys(['id', 'vector', 'text', 'subject'])\n",
      "Vector dim: 768\n"
     ]
    }
   ],
   "source": [
    "from pymilvus import model\n",
    "\n",
    "\n",
    "embedding_fn = model.DefaultEmbeddingFunction()\n",
    "\n",
    "docs = [\n",
    "    \"Artificial intelligence was founded as an academic discipline in 1956.\",\n",
    "    \"Alan Turing was the first person to conduct substantial research in AI.\",\n",
    "    \"Born in Maida Vale, London, Turing was raised in southern England.\",\n",
    "]\n",
    "\n",
    "vectors = embedding_fn.encode_documents(docs)\n",
    "print(\"Dim:\", embedding_fn.dim, vectors[0].shape)  # Dim: 768 (768,)\n",
    "data =[ {\"id\": i, \"vector\": vectors[i], \"text\": docs[i], \"subject\": \"history\"}\n",
    "    for i in range(len(vectors))]\n",
    "\n",
    "print(\"Data has\", len(data), \"entities, each with fields: \", data[0].keys())\n",
    "print(\"Vector dim:\", len(data[0][\"vector\"]))\n"
   ]
  },
  {
   "cell_type": "code",
   "execution_count": 4,
   "metadata": {},
   "outputs": [],
   "source": [
    "# res = client.insert(collection_name=\"demo_collection\", data=data)"
   ]
  },
  {
   "cell_type": "code",
   "execution_count": 10,
   "metadata": {},
   "outputs": [
    {
     "name": "stdout",
     "output_type": "stream",
     "text": [
      "{'id': 100000, 'text': 'Quyết định 720/QĐ-CTN năm 2020 về cho thôi quốc tịch Việt Nam đối với 95 công dân hiện đang cư trú tại Đức do Chủ tịch nước ban hành'}\n",
      "{'id': 100001, 'text': 'Quyết định 719/QĐ-CTN năm 2020 về cho thôi quốc tịch Việt Nam đối với 15 công dân hiện đang cư trú tại Hồng Kông (Trung Quốc) do Chủ tịch nước ban hành'}\n",
      "{'id': 100002, 'text': 'Quyết định 648/QĐ-TTg năm 2020 về phê duyệt nhiệm vụ lập quy hoạch mạng lưới cơ sở y tế thời kỳ 2021-2030, tầm nhìn đến năm 2045 do Thủ tướng Chính phủ ban hành'}\n",
      "{'id': 100003, 'text': 'Quyết định 1000/QĐ-UBND năm 2020 công bố danh mục thủ tục hành chính thuộc phạm vi chức năng quản lý nhà nước của Sở Công thương tỉnh Sơn La'}\n",
      "{'id': 100004, 'text': 'Quyết định 1517/QĐ-UBND năm 2020 về công bố Danh mục và Quy trình nội bộ thủ tục hành chính được sửa đổi, bổ sung thuộc thẩm quyền quản lý của ngành Xây dựng áp dụng tại Ủy ban nhân dân cấp huyện trên địa bàn tỉnh Hà Tĩnh'}\n",
      "{'id': 100005, 'text': 'Quyết định 647/QĐ-TTg năm 2020 về phê duyệt Đề án hợp tác quốc tế về phát triển bền vững kinh tế biển Việt Nam đến 2030 do Thủ tướng Chính phủ ban hành'}\n",
      "{'id': 100006, 'text': 'Quyết định 949/QĐ-BGTVT năm 2020 công bố thủ tục hành chính được sửa đổi, bổ sung lĩnh vực hàng không thuộc phạm vi chức năng quản lý của Bộ Giao thông vận tải'}\n",
      "{'id': 100007, 'text': 'Quyết định 579/QĐ-TCCB về Kế hoạch thi và chỉ tiêu thi nâng ngạch lên chuyên viên, chuyên viên chính năm 2020 do Chánh án Tòa án nhân dân tối cao ban hành'}\n",
      "{'id': 100008, 'text': 'Quyết định 649/QĐ-TTg năm 2020 về phê duyệt chủ trương đầu tư Dự án đầu tư xây dựng tuyến đường bộ ven biển đoạn Hoằng Hóa - Sầm Sơn và đoạn Quảng Xương - Tĩnh Gia, tỉnh Thanh Hóa theo hình thức đối tác công tư, hợp đồng BOT do Thủ tướng Chính phủ ban hành'}\n",
      "{'id': 100009, 'text': 'Quyết định 13/2020/QĐ-UBND bãi bỏ Quyết định 10/2015/QĐ-UBND quy định về chính sách hỗ trợ doanh nghiệp xuất khẩu phần mềm trên địa bàn thành phố Đà Nẵng'}\n",
      "{'id': 100010, 'text': 'Quyết định 854/QĐ-UBND về phê duyệt Kế hoạch phát triển nông nghiệp ứng dụng công nghệ cao, nông nghiệp thông minh trên địa bàn tỉnh Lâm Đồng năm 2020'}\n",
      "{'id': 100011, 'text': 'Quyết định 1079/QĐ-UBND năm 2020 công bố danh mục thủ tục hành chính thực hiện chính sách hỗ trợ người dân gặp khó khăn do đại dịch Covid-19 thuộc lĩnh vực Lao động - Thương binh và Xã hội trên địa bàn tỉnh Đắk Lắk'}\n",
      "{'id': 100012, 'text': 'Quyết định 09/2020/QĐ-UBND về Bảng giá tính thuế tài nguyên trên địa bàn tỉnh Phú Thọ năm 2020'}\n",
      "{'id': 100013, 'text': 'Quyết định 13/2020/QĐ-UBND về phân cấp thẩm quyền cấp, điều chỉnh, thu hồi Giấy phép đủ điều kiện kinh doanh dịch vụ karaoke trên địa bàn tỉnh Nghệ An'}\n",
      "{'id': 100014, 'text': 'Kế hoạch 112/KH-UBND năm 2020 về thực hiện Quyết định 142/QĐ-TTg thực hiện Kết luận 52-KL/TW về tiếp tục thực hiện Nghị quyết về xây dựng đội ngũ trí thức trong thời kỳ đẩy mạnh công nghiệp hóa, hiện đại hóa đất nước do tỉnh Yên Bái ban hành'}\n",
      "{'id': 100015, 'text': 'Quyết định 859/QĐ-UBND về phê duyệt danh mục dịch vụ công trực tuyến và danh mục dịch vụ công của tỉnh Lâm Đồng tích hợp, cung cấp trên Cổng dịch vụ công Quốc gia năm 2020'}\n",
      "{'id': 100016, 'text': 'Kế hoạch 4223/KH-UBND năm 2020 thực hiện Nghị quyết 35/NQ-CP về tăng cường huy động nguồn lực của xã hội đầu tư cho phát triển giáo dục và đào tạo trên địa bàn tỉnh Đắk Lắk giai đoạn 2019-2025'}\n",
      "{'id': 100017, 'text': 'Quyết định 22/2020/QĐ-UBND về tiêu chuẩn, định mức sử dụng máy móc, thiết bị chuyên dùng thuộc lĩnh vực y tế do tỉnh Vĩnh Phúc ban hành'}\n",
      "{'id': 100018, 'text': 'Quyết định 18/2020/QĐ-UBND quy định về mức giá dịch vụ sử dụng đường bộ của các phương tiện giao thông đối với dự án Đường ĐT.768 theo hình thức đối tác công tư, hợp đồng BOT do tỉnh Đồng Nai ban hành'}\n",
      "{'id': 100019, 'text': 'Thông báo 1403/TB-GDĐT-KTKĐCLGD năm 2020 về tuyển thẳng vào lớp 10 trung học phổ thông năm học 2020-2021 do Sở Giáo dục và Đào tạo thành phố Hồ Chí Minh ban hành'}\n",
      "{'id': 100040, 'text': 'Quyết định 739/QĐ-BTC năm 2020 về phân cấp thẩm quyền xử lý đối với tang vật vi phạm hành chính là hàng hóa, vật phẩm dễ bị hư hỏng theo quy định tại Khoản 4 Điều 4 Thông tư 57/2018/TT-BTC do Bộ trưởng Bộ Tài chính ban hành'}\n",
      "{'id': 100041, 'text': 'Nghị định 54/2020/NĐ-CP sửa đổi Nghị định 127/2015/NĐ-CP về tổ chức và hoạt động thanh tra ngành Công Thương'}\n",
      "{'id': 100042, 'text': 'Quyết định 290/QĐ-UBND năm 2020 công bố Danh mục thủ tục hành chính mới; sửa đổi, bổ sung, thay thế thuộc thẩm quyền giải quyết của Sở Thông tin và Truyền thông do tỉnh Kon Tum ban hành'}\n",
      "{'id': 100043, 'text': 'Thông tư 41/2020/TT-BTC sửa đổi Thông tư 219/2016/TT-BTC quy định mức thu, chế độ thu, nộp, quản lý và sử dụng phí, lệ phí trong lĩnh vực xuất cảnh, nhập cảnh, quá cảnh, cư trú tại Việt Nam do Bộ trưởng Bộ Tài chính ban hành'}\n",
      "{'id': 100044, 'text': 'Quyết định 16/2020/QĐ-UBND quy định về chức năng, nhiệm vụ, quyền hạn và cơ cấu tổ chức của Ban Quản lý khu kinh tế Vân Đồn trực thuộc Ủy ban nhân dân tỉnh Quảng Ninh'}\n",
      "{'id': 100045, 'text': 'Quyết định 26/2020/QĐ-UBND quy định về thẩm quyền cấp Giấy chứng nhận đủ điều kiện hoạt động; điều kiện về diện tích phòng máy đối với điểm cung cấp dịch vụ trò chơi điện tử công cộng; thời gian hoạt động của đại lý internet và điểm truy nhập internet công cộng không cung cấp dịch vụ trò chơi điện tử trên địa bàn tỉnh Lạng Sơn'}\n",
      "{'id': 100046, 'text': 'Nghị quyết 942/NQ-UBTVQH14 năm 2020 phê chuẩn kết quả bầu Trưởng Đoàn đại biểu Quốc hội khóa XIV tỉnh Quảng Ninh do Ủy ban Thường vụ Quốc hội ban hành'}\n",
      "{'id': 100047, 'text': 'Nghị quyết 943/NQ-UBTVQH14 năm 2020 về phê chuẩn việc miễn nhiệm chức vụ Phó Chủ nhiệm Ủy ban Văn hóa, Giáo dục, Thanh niên, Thiếu niên và Nhi đồng của Quốc hội khóa XIV do Ủy ban Thường vụ Quốc hội ban hành'}\n",
      "{'id': 100048, 'text': 'Quyết định 1614/QĐ-UBND năm 2020 công bố Danh mục thủ tục hành chính bị bãi bỏ thuộc phạm vi chức năng quản lý của Sở Giáo dục và Đào tạo thành phố Hồ Chí Minh'}\n",
      "{'id': 100049, 'text': 'Quyết định 1128/QĐ-CT năm 2020 phê duyệt các quy trình nội bộ trong giải quyết thủ tục hành chính của Sở Giao thông vận tải tiếp nhận và trả kết quả tại Trung tâm Phục vụ Hành chính công tỉnh Vĩnh Phúc; Quy trình nội bộ đối với thủ tục hành chính tiếp nhận, giải quyết, trả kết quả tại Sở Giao thông vận tải tỉnh Vĩnh Phúc'}\n",
      "{'id': 100050, 'text': 'Quyết định 1187/QĐ-UBND năm 2020 về Danh mục thủ tục hành chính mới thuộc thẩm quyền giải quyết của Ủy ban nhân dân tỉnh, Chủ tịch Ủy ban nhân dân tỉnh được thực hiện theo cơ chế một cửa, một cửa liên thông tại Trung tâm Phục vụ hành chính công tỉnh Thừa Thiên Huế (chính sách hỗ trợ COVID-19 thuộc phạm vi chức năng quản lý Nhà nước của Sở Lao động - Thương binh và Xã hội)'}\n",
      "{'id': 100051, 'text': 'Quyết định 16/2020/QĐ-TTg về Quy chế quản lý xăng dầu dự trữ quốc gia do Thủ tướng Chính phủ ban hành'}\n",
      "{'id': 100052, 'text': 'Quyết định 646/QĐ-TTg năm 2020 về phê duyệt Nhiệm vụ lập Quy hoạch tỉnh Thừa Thiên Huế thời kỳ 2021-2030, tầm nhìn đến năm 2050 do Thủ tướng Chính phủ ban hành'}\n",
      "{'id': 100053, 'text': 'Chỉ thị 13/CT-UBND năm 2020 về xây dựng kế hoạch phát triển kinh tế - xã hội 5 năm 2021-2025 do tỉnh Thanh Hóa ban hành'}\n",
      "{'id': 100054, 'text': 'Quyết định 1702/QĐ-UBND năm 2020 công bố Danh mục thủ tục hành chính mới lĩnh vực lao động, tiền lương và lĩnh vực việc làm thuộc phạm vi chức năng quản lý Nhà nước của Sở Lao động - Thương binh và Xã hội tỉnh Thanh Hóa về thực hiện chính sách hỗ trợ người dân gặp khó khăn do đại dịch COVID-19'}\n",
      "{'id': 100055, 'text': 'Thông tư 40/2020/TT-BTC về hướng dẫn chế độ báo cáo trong lĩnh vực kế toán, kiểm toán độc lập tại Nghị định 174/2016/NĐ-CP hướng dẫn Luật kế toán và Nghị định 17/2012/NĐ-CP hướng dẫn Luật kiểm toán độc lập do Bộ trưởng Bộ Tài chính ban hành'}\n",
      "{'id': 100056, 'text': 'Kế hoạch 309/KH-BGDĐT năm 2020 về tổ chức Hội nghị - Hội thảo tổng kết 05 năm thực hiện Quyết định 1501/QĐ-TTg phê duyệt Đề án “Tăng cường giáo dục lý tưởng cách mạng, đạo đức, lối sống cho thanh niên, thiếu niên và nhi đồng giai đoạn 2015-2020” do Bộ Giáo dục và Đào tạo ban hành'}\n",
      "{'id': 100057, 'text': 'Quyết định 1128/QĐ-UBND năm 2020 phê duyệt quy trình nội bộ trong giải quyết thủ tục hành chính của Sở Giao thông vận tải  tiếp nhận và trả kết quả tại Trung tâm Phục vụ Hành chính công tỉnh Vĩnh Phúc; quy trình nội bộ đối với thủ tục hành chính tiếp nhận, giải quyết, trả kết quả tại Sở Giao thông vận tải tỉnh Vĩnh Phúc'}\n",
      "{'id': 100058, 'text': 'Quyết định 17/2020/QĐ-UBND về Danh mục cây xanh trồng, hạn chế trồng và cấm trồng trên vỉa hè, trong dải phân cách đường phố, công viên, vườn hoa và khuôn viên các công trình công cộng trong các đô thị thuộc địa bàn tỉnh Lai Châu'}\n",
      "{'id': 100059, 'text': 'Quyết định 2236/QĐ-UBND sửa đổi, bổ sung Danh mục dịch vụ công tích hợp, cung cấp trên Cổng dịch vụ công Quốc gia năm 2020 kèm theo Quyết định 2148/QĐ-UBND do tỉnh Trà Vinh ban hành'}\n",
      "{'id': 105320, 'text': 'Thông tư 15/2020/TT-BCA quy định về thực hiện dân chủ trong công tác quản lý hành chính về trật tự xã hội do Bộ trưởng Bộ Công an hành'}\n",
      "{'id': 105321, 'text': 'Kế hoạch 74/KH-BGDĐT về tổ chức bồi dưỡng giáo viên, cán bộ quản lý cơ sở giáo dục phổ thông, giảng viên sư phạm năm 2020 (trong khuôn khổ Dự án Phát triển giáo dục trung học phổ thông giai đoạn 2) do Bộ Giáo dục và Đào tạo ban hành'}\n",
      "{'id': 105322, 'text': 'Quyết định 248/QĐ-BTP về phê duyệt Kế hoạch công tác năm 2020 của Cục Kiểm tra văn bản quy phạm pháp luật do Bộ trưởng Bộ Tư pháp ban hành'}\n",
      "{'id': 105323, 'text': 'Quyết định 01/2020/QĐ-UBND sửa đổi Quy định về bồi thường, hỗ trợ, tái định cư khi nhà nước thu hồi đất trên địa bàn tỉnh Hậu Giang kèm theo Quyết định 26/2018/QĐ-UBND'}\n",
      "{'id': 105324, 'text': 'Kế hoạch 32/KH-UBND năm 2020 thực hiện Nghị định 08/2020/NĐ-CP về tổ chức và hoạt động Thừa phát lại trên địa bàn tỉnh Tiền Giang'}\n",
      "{'id': 105325, 'text': 'Quyết định 357/QĐ-UBND năm 2020 về phê duyệt quy trình nội bộ giải quyết thủ tục hành chính lĩnh vực Giáo dục và Đào tạo thuộc thẩm quyền giải quyết của Sở Giáo dục và Đào tạo tỉnh Khánh Hòa'}\n",
      "{'id': 105326, 'text': 'Quyết định 391/QĐ-BTNMT năm 2020 về Kế hoạch hành động thực hiện Đề án triển khai Tuyên bố ASEAN về vai trò của nền công vụ làm chất xúc tác trong việc đạt được Tầm nhìn Cộng đồng ASEAN 2025 do Bộ trưởng Bộ Tài nguyên và Môi trường ban hành'}\n",
      "{'id': 105327, 'text': 'Kế hoạch 33/KH-UBND về đẩy mạnh xuất khẩu trên địa bàn năm 2020 do Thành phố Hà Nội ban hành'}\n",
      "{'id': 105328, 'text': 'Kế hoạch 30/KH-UBND về phòng, chống ma túy trên địa bàn Thành phố Hà Nội năm 2020'}\n",
      "{'id': 105329, 'text': 'Quyết định 362/QĐ-UBND năm 2020 Kế hoạch hành động về quản lý rác thải nhựa đại dương đến năm 2030 trên địa bàn tỉnh Khánh Hòa'}\n",
      "{'id': 105330, 'text': 'Kế hoạch 31/KH-UBND về đào tạo nghề cho lao động nông thôn theo Quyết định 1956/QĐ-TTg trên địa bàn thành phố Hà Nội năm 2020'}\n",
      "{'id': 105331, 'text': 'Quyết định 425/QĐ-UBND năm 2020 phê duyệt bổ sung Chương trình phát triển đô thị tỉnh Bình Định đến năm 2035'}\n",
      "{'id': 105332, 'text': 'Kế hoạch 75/KH-UBND về phát triển Du lịch Nghệ An năm 2020'}\n",
      "{'id': 105333, 'text': 'Quyết định 361/QĐ-UBND về Kế hoạch công tác kiểm soát thủ tục hành chính năm 2020 do tỉnh Quảng Nam ban hành'}\n",
      "{'id': 105334, 'text': 'Chỉ thị 04/CT-UBND về tăng cường công tác quản lý thu ngân sách nhà nước năm 2020 trên địa bàn tỉnh Quảng Nam'}\n",
      "{'id': 105335, 'text': 'Quyết định 05/2020/QĐ-UBND quy định về điều kiện, tiêu chuẩn chức danh Trưởng phòng, Phó Trưởng phòng và tương đương thuộc Sở Tài chính; Tiêu chuẩn chức danh Trưởng phòng, Phó Trưởng phòng Phòng Tài chính - Kế hoạch thuộc Ủy ban nhân dân cấp huyện được giao phụ trách, tham mưu lĩnh vực quản lý nhà nước về tài chính trên địa bàn tỉnh An Giang'}\n",
      "{'id': 105336, 'text': 'Quyết định 153/QĐ-UBND về phê duyệt Kế hoạch đào tạo, bồi dưỡng cán bộ, công chức tỉnh Bắc Ninh năm 2020'}\n",
      "{'id': 105337, 'text': 'Kế hoạch 24/KH-UBND về bảo đảm an toàn thực phẩm trong lĩnh vực nông nghiệp năm 2020 trên địa bàn tỉnh Quảng Ninh'}\n",
      "{'id': 105338, 'text': 'Quyết định 349/QĐ-UBND năm 2020 công bố Danh mục thủ tục hành chính trong lĩnh vực Quản lý chất lượng Nông lâm và Thủy sản thuộc thẩm quyền giải quyết của Sở Nông nghiệp và Phát triển nông thôn tỉnh Quảng Bình'}\n",
      "{'id': 105339, 'text': 'Quyết định 415/QĐ-UBND năm 2020 về phê duyệt quy trình nội bộ giải quyết thủ tục hành chính liên thông thuộc phạm vi chức năng quản lý của Sở Du lịch tỉnh Bình Định'}\n",
      "{'id': 109160, 'text': 'Nghị quyết 172/NQ-HĐND năm 2019 bổ sung danh mục cụ thể khoảng cách và địa bàn làm căn cứ xác định học sinh không thể đi đến trường và về nhà trong ngày được hỗ trợ theo chính sách của Nghị định 116/2016/NĐ-CP trong phụ lục kèm theo Nghị quyết 46/NQ-HĐND, 54/NQ-HĐND và 112/NQ-HĐND do tỉnh Trà Vinh ban hành'}\n",
      "{'id': 109161, 'text': 'Quyết định 2242/QĐ-UBND năm 2019 quy định về chức năng, nhiệm vụ, quyền hạn và cơ cấu tổ chức của Trung tâm Điều dưỡng Người có công và chăm sóc sức khỏe cán bộ tỉnh Cao Bằng'}\n",
      "{'id': 109162, 'text': 'Quyết định 2244/QĐ-UBND năm 2019 về giao chỉ tiêu kế hoạch bảo vệ và phát triển rừng năm 2020 do tỉnh Cao Bằng ban hành'}\n",
      "{'id': 109163, 'text': 'Nghị quyết 165/NQ-HĐND năm 2019 về phê chuẩn dự toán ngân sách, phân bổ nhiệm vụ thu, chi ngân sách năm 2020 do tỉnh Trà Vinh ban hành'}\n",
      "{'id': 109164, 'text': 'Nghị quyết 45/NQ-HĐND năm 2019 về kế hoạch phát triển kinh tế - xã hội năm 2020 do tỉnh Khánh Hòa ban hành'}\n",
      "{'id': 109165, 'text': 'Nghị quyết 49/NQ-HĐND năm 2019 thông qua danh mục dự án cần thu hồi đất để phát triển kinh tế - xã hội vì lợi ích quốc gia, công cộng trong năm 2020 trên địa bàn tỉnh Khánh Hòa'}\n",
      "{'id': 109166, 'text': 'Nghị quyết 50/NQ-HĐND năm 2019 thông qua danh mục dự án chuyển mục đích sử dụng đất trồng lúa sang mục đích khác trong năm 2020 trên địa bàn tỉnh Khánh Hòa'}\n",
      "{'id': 109167, 'text': 'Nghị quyết 51/NQ-HĐND năm 2019 về Quyết định biên chế công chức trong cơ quan, tổ chức hành chính của tỉnh Khánh Hòa năm 2020'}\n",
      "{'id': 109168, 'text': 'Nghị quyết 44/NQ-HĐND năm 2019 về kế hoạch đầu tư công năm 2020 do tỉnh Khánh Hòa ban hành'}\n",
      "{'id': 109169, 'text': 'Nghị quyết 57/NQ-HĐND năm 2019 về mục tiêu, nhiệm vụ kế hoạch năm 2020 do tỉnh Lạng Sơn ban hành'}\n",
      "{'id': 109170, 'text': 'Nghị quyết 50/NQ-HĐND năm 2019 thông qua danh mục công trình, dự án cần thu hồi đất; cho phép chuyển mục đích sử dụng đất trồng lúa, đất rừng phòng hộ và đất rừng đặc dụng sang mục đích khác trên địa bàn tỉnh Thừa Thiên Huế năm 2020'}\n",
      "{'id': 109171, 'text': 'Kế hoạch 154/KH-UBND năm 2019 thực hiện Nghị quyết 102/NQ-CP về giao chỉ tiêu phát triển đối tượng tham gia bảo hiểm xã hội do tỉnh Quảng Ngãi ban hành'}\n",
      "{'id': 109172, 'text': 'Quyết định 1901/QĐ-UBND năm 2019 về phê duyệt danh mục thủ tục hành chính trong lĩnh vực thương mại quốc tế và lĩnh vực điện được rút ngắn thời gian giải quyết so với quy định pháp luật thuộc thẩm quyền giải quyết của Sở Công Thương tỉnh Quảng Ngãi'}\n",
      "{'id': 109173, 'text': 'Nghị quyết 56/NQ-HĐND năm 2019 về Danh mục dự án cần thu hồi đất năm 2020 và dự án có nhu cầu chuyển mục đích sử dụng đất trồng lúa, đất rừng phòng hộ, đất rừng đặc dụng vào mục đích khác trên địa bàn tỉnh Kon Tum'}\n",
      "{'id': 109174, 'text': 'Nghị quyết 63/NQ-HĐND năm 2019 về Kế hoạch tổ chức các kỳ họp thường lệ năm 2020 của Hội đồng nhân dân tỉnh Kon Tum'}\n",
      "{'id': 109175, 'text': 'Quyết định 4154/QĐ-UBND năm 2019 quy định về tiêu chí, tiêu chuẩn đánh giá xây dựng đội văn nghệ thôn, bản; tiêu chí, tiêu chuẩn đánh giá lớp dạy tiếng dân tộc theo hình thức truyền khẩu - Thực hiện Quyết định 2086/QĐ-TTg trên địa bàn tỉnh Lào Cai'}\n",
      "{'id': 109176, 'text': 'Kế hoạch 3286/KH-UBND năm 2019 về kế hoạch phòng, chống dịch bệnh thủy sản năm 2020 do tỉnh Kon Tum ban hành'}\n",
      "{'id': 109177, 'text': 'Nghị quyết 64/NQ-HĐND năm 2019 về sáp nhập, đặt tên thôn, tổ dân phố trên địa bàn tỉnh Lạng Sơn'}\n",
      "{'id': 109178, 'text': 'Nghị quyết 170/NQ-HĐND năm 2019 thông qua Danh mục công trình, dự án cần thu hồi đất và nhu cầu chuyển mục đích sử dụng đất trồng lúa, đất rừng phòng hộ sang sử dụng vào mục đích khác trong năm 2020 trên địa bàn tỉnh Trà Vinh'}\n",
      "{'id': 109179, 'text': 'Kế hoạch 240/KH-UBND năm 2019 về trồng, chăm sóc và bảo vệ cây phân tán trên địa bàn tỉnh Sơn La năm 2020'}\n",
      "{'id': 116980, 'text': 'Quyết định 31/2019/QĐ-UBND quy định về phòng cháy, chữa cháy rừng trên địa bàn thành phố Đà Nẵng'}\n",
      "{'id': 116981, 'text': 'Quyết định 10/2019/QĐ-UBND quy định về đơn giá nhà, công trình, vật kiến trúc, cây trồng và vật nuôi do thành phố Cần Thơ ban hành'}\n",
      "{'id': 116982, 'text': 'Quyết định 18/2019/QĐ-UBND quy định về tiêu chí xét duyệt hồ sơ đề nghị thành lập Văn phòng công chứng trên địa bàn tỉnh Đắk Nông'}\n",
      "{'id': 116983, 'text': 'Quyết định 1037/QĐ-UBND năm 2019 công bố danh mục thủ tục hành chính thuộc phạm vi chức năng quản lý của Sở Tài nguyên và Môi trường (thực hiện tại Trung tâm Phục vụ hành chính công tỉnh Ninh Thuận)'}\n",
      "{'id': 116984, 'text': 'Quyết định 23/2019/QĐ-UBND về Quy chế tổ chức và hoạt động của ấp, khu phố trên địa bàn tỉnh Tiền Giang'}\n",
      "{'id': 116985, 'text': 'Quyết định 252/QĐ-UBND năm 2019 quy định về trách nhiệm, thời gian, nhiệm vụ cụ thể của các cơ quan chức năng trong việc tham mưu xây dựng nghị quyết do Ủy ban nhân dân tỉnh trình tại các kỳ họp của Hội đồng nhân dân tỉnh Ninh Thuận'}\n",
      "{'id': 116986, 'text': 'Quyết định 1513/QĐ-UBND năm 2019 về quy chế phối hợp giữa Trung tâm Phục vụ hành chính công tỉnh với các sở, ban, ngành trong việc giải quyết thủ tục hành chính cho tổ chức và cá nhân do tỉnh Sơn La ban hành'}\n",
      "{'id': 116987, 'text': 'Quyết định 2087/QĐ-UBND năm 2019 về phê duyệt quy trình nội bộ giải quyết thủ tục hành chính thuộc thẩm quyền và phạm vi quản lý của Sở Thông tin và Truyền thông tỉnh Quảng Nam'}\n",
      "{'id': 116988, 'text': 'Quyết định 2091/QĐ-UBND năm 2019 về phê duyệt quy trình nội bộ thủ tục hành chính thuộc thẩm quyền giải quyết và quản lý của Ban Dân tộc tỉnh Quảng Nam'}\n",
      "{'id': 116989, 'text': 'Quyết định 2811/QĐ-UBND năm 2019 về Quy chế phối hợp quản lý hoạt động kinh doanh theo phương thức đa cấp trên địa bàn thành phố Đà Nẵng'}\n",
      "{'id': 116990, 'text': 'Quyết định 2086/QĐ-UBND năm 2019 về phê duyệt quy trình nội bộ giải quyết thủ tục hành chính thuộc thẩm quyền và phạm vi quản lý của Sở Công Thương tỉnh Quảng Nam'}\n",
      "{'id': 116991, 'text': 'Quyết định 2088/QĐ-UBND năm 2019 về phê duyệt quy trình nội bộ giải quyết thủ tục hành chính thuộc thẩm quyền và phạm vi quản lý của Sở Xây dựng tỉnh Quảng Nam'}\n",
      "{'id': 116992, 'text': 'Quyết định 2089/QĐ-UBND năm 2019 về phê duyệt quy trình nội bộ giải quyết thủ tục hành chính thuộc thẩm quyền và phạm vi quản lý của Sở Giáo dục và Đào tạo tỉnh Quảng Nam'}\n",
      "{'id': 116993, 'text': 'Quyết định 2092/QĐ-UBND năm 2019 về phê duyệt quy trình nội bộ giải quyết thủ tục hành chính thuộc thẩm quyền và phạm vi quản lý của Sở Nông nghiệp và Phát triển Nông thôn tỉnh Quảng Nam'}\n",
      "{'id': 116994, 'text': 'Quyết định 2093/QĐ-UBND năm 2019 về phê duyệt quy trình nội bộ giải quyết thủ tục hành chính thuộc thẩm quyền và phạm vi quản lý của Sở Khoa học và Công nghệ tỉnh Quảng Nam'}\n",
      "{'id': 116995, 'text': 'Quyết định 05/2019/QĐ-UBND điều chỉnh, bổ sung Quy hoạch thăm dò, khai thác, sử dụng khoáng sản làm vật liệu xây dựng thông thường trên địa bàn tỉnh Phú Thọ đến năm 2020, định hướng đến năm 2030'}\n",
      "{'id': 116996, 'text': 'Kế hoạch 1176/KH-UBND năm 2019 thực hiện giải pháp nhằm hạn chế tai nạn giao thông, vi phạm pháp luật về trật tự an toàn giao thông trên địa bàn tỉnh Lai Châu'}\n",
      "{'id': 116997, 'text': 'Chỉ thị 4509/CT-BNN-KH năm 2019 về xây dựng kế hoạch phát triển ngành nông nghiệp, nông thôn và dự toán ngân sách nhà nước năm 2020 do Bộ Nông nghiệp và Phát triển nông thôn ban hành'}\n",
      "{'id': 116998, 'text': 'Kế hoạch 233/KH-UBND năm 2019 về triển khai chương trình, sách giáo khoa giáo dục phổ thông mới trên địa bàn tỉnh Lào Cai'}\n",
      "{'id': 116999, 'text': 'Kế hoạch 90/KH-UBND năm 2019 thực hiện Chương trình giáo dục phổ thông tỉnh Thái Nguyên'}\n"
     ]
    }
   ],
   "source": [
    "\n",
    "res = client.query(\n",
    "    collection_name=\"demo_collection\",  # target collection\n",
    "    filter='',  # number of returned entities\n",
    "    limit=100,\n",
    "    output_fields=[\"id\", 'text'],  # specifies fields to be returned\n",
    "    # sorted=True, #\n",
    ")\n",
    "for item in res:\n",
    "    print(item)"
   ]
  },
  {
   "cell_type": "code",
   "execution_count": 8,
   "metadata": {},
   "outputs": [
    {
     "name": "stdout",
     "output_type": "stream",
     "text": [
      "file_name Văn Bản Pháp Luật_p100000-100019.parquet\n",
      "{'insert_count': 20, 'ids': [100000, 100001, 100002, 100003, 100004, 100005, 100006, 100007, 100008, 100009, 100010, 100011, 100012, 100013, 100014, 100015, 100016, 100017, 100018, 100019]}\n",
      "Data inserted successfully!\n"
     ]
    }
   ],
   "source": [
    "import os\n",
    "import pandas as pd\n",
    "\n",
    "# Đường dẫn đến thư mục \"Khoi\"\n",
    "folder_path = 'Khoi'\n",
    "\n",
    "# Danh sách lưu trữ các DataFrame\n",
    "df_list = []\n",
    "\n",
    "# Duyệt qua tất cả các file trong thư mục\n",
    "# for file_name in os.listdir('Khoi'):\n",
    "for file_name in ['Văn Bản Pháp Luật_p100000-100019.parquet']:\n",
    "    # Kiểm tra nếu file có định dạng giống \"Văn Bản Pháp Luật_p*.parquet\"\n",
    "    print(\"file_name\", file_name)\n",
    "    file_path = os.path.join(folder_path, file_name)\n",
    "    \n",
    "    # Đọc file Parquet và thêm vào danh sách DataFrame\n",
    "    file_df = pd.read_parquet(file_path)\n",
    "    \n",
    "    # Thực hiện các chuyển đổi tương tự như bạn đã đề cập\n",
    "    file_df['created_date'] = pd.to_datetime(file_df['created_date'], format='%d/%m/%Y')\n",
    "    file_df['updated_date'] = pd.to_datetime(file_df['updated_date'], format='%d/%m/%Y')\n",
    "    file_df['content_raw'] = file_df['content'].apply(lambda x: x.decode('utf-8') if isinstance(x, bytes) else x)\n",
    "    \n",
    "    # df_list.append(file_df)\n",
    "    \n",
    "    \n",
    "\n",
    "    # connection = create_connection()\n",
    "\n",
    "    # cursor = connection.cursor()\n",
    "\n",
    "    try: \n",
    "        # Chèn dữ liệu từ DataFrame vào PostgreSQL\n",
    "        \n",
    "        data = []\n",
    "        for index, item in file_df.iterrows():\n",
    "            docs= [f\"{item.title}\"]\n",
    "            vectors = embedding_fn.encode_documents(docs)\n",
    "        \n",
    "            data.append({\"id\": item.id, \"vector\": vectors[0], \"text\": docs[0], \"subject\": \"van_ban_phap_luat\"} )\n",
    "        \n",
    "        res = client.insert(collection_name=\"demo_collection\", data=data)\n",
    "        print(res)\n",
    "        \n",
    "        # Xác nhận các thay đổi vào cơ sở dữ liệu\n",
    "        # connection.commit()\n",
    "\n",
    "    except Exception as e:\n",
    "        print(e)\n",
    "\n",
    "    # Đóng kết nối\n",
    "    # cursor.close()\n",
    "    # connection.close()\n",
    "\n",
    "    print(\"Data inserted successfully!\")\n",
    "\n",
    "\n",
    "# # Nối tất cả các DataFrame lại với nhau thành một DataFrame duy nhất\n",
    "# combined_df = pd.concat(df_list, ignore_index=True)\n",
    "\n",
    "# # Hiển thị vài dòng đầu tiên của DataFrame\n",
    "# combined_df.head()"
   ]
  },
  {
   "cell_type": "code",
   "execution_count": 12,
   "metadata": {},
   "outputs": [
    {
     "name": "stdout",
     "output_type": "stream",
     "text": [
      "[{'id': 186716, 'distance': 0.3696450889110565, 'entity': {'text': 'Nghị định 110/2015/NĐ-CP sửa đổi Nghị định 21/2010/NĐ-CP về quản lý biên chế công chức', 'id': 186716}}, {'id': 155333, 'distance': 0.3661559820175171, 'entity': {'text': 'Quyết định 26/2017/QĐ-UBND sửa đổi Bảng giá các loại đất định kỳ 5 năm (2015-2019) trên địa bàn tỉnh Long An kèm theo Quyết định 60/2014/QĐ-UBND và Quyết định 61/2016/QĐ-UBND', 'id': 155333}}]\n"
     ]
    }
   ],
   "source": [
    "query_vectors = embedding_fn.encode_queries([\"16/2020/QĐ-UBND\"])\n",
    "\n",
    "res = client.search(\n",
    "    collection_name=\"demo_collection\",  # target collection\n",
    "    data=query_vectors,  # query vectors\n",
    "    limit=2,  # number of returned entities\n",
    "    output_fields=[\"id\", \"text\"],  # specifies fields to be returned\n",
    "    # sorted=True, #\n",
    ")\n",
    "for item in res:\n",
    "    print(item)\n"
   ]
  },
  {
   "cell_type": "markdown",
   "metadata": {},
   "source": [
    "## Milvus BGEM3EmbeddingFunction"
   ]
  },
  {
   "cell_type": "code",
   "execution_count": 33,
   "metadata": {},
   "outputs": [
    {
     "name": "stderr",
     "output_type": "stream",
     "text": [
      "Fetching 30 files: 100%|██████████| 30/30 [00:00<00:00, 49519.53it/s]\n",
      "/Volumes/home/Learn/Master/3.LLMs/rag_pipeline/.venv/lib/python3.11/site-packages/FlagEmbedding/BGE_M3/modeling.py:335: FutureWarning: You are using `torch.load` with `weights_only=False` (the current default value), which uses the default pickle module implicitly. It is possible to construct malicious pickle data which will execute arbitrary code during unpickling (See https://github.com/pytorch/pytorch/blob/main/SECURITY.md#untrusted-models for more details). In a future release, the default value for `weights_only` will be flipped to `True`. This limits the functions that could be executed during unpickling. Arbitrary objects will no longer be allowed to be loaded via this mode unless they are explicitly allowlisted by the user via `torch.serialization.add_safe_globals`. We recommend you start setting `weights_only=True` for any use case where you don't have full control of the loaded file. Please open an issue on GitHub for any issues related to this experimental feature.\n",
      "  colbert_state_dict = torch.load(os.path.join(model_dir, 'colbert_linear.pt'), map_location='cpu')\n",
      "/Volumes/home/Learn/Master/3.LLMs/rag_pipeline/.venv/lib/python3.11/site-packages/FlagEmbedding/BGE_M3/modeling.py:336: FutureWarning: You are using `torch.load` with `weights_only=False` (the current default value), which uses the default pickle module implicitly. It is possible to construct malicious pickle data which will execute arbitrary code during unpickling (See https://github.com/pytorch/pytorch/blob/main/SECURITY.md#untrusted-models for more details). In a future release, the default value for `weights_only` will be flipped to `True`. This limits the functions that could be executed during unpickling. Arbitrary objects will no longer be allowed to be loaded via this mode unless they are explicitly allowlisted by the user via `torch.serialization.add_safe_globals`. We recommend you start setting `weights_only=True` for any use case where you don't have full control of the loaded file. Please open an issue on GitHub for any issues related to this experimental feature.\n",
      "  sparse_state_dict = torch.load(os.path.join(model_dir, 'sparse_linear.pt'), map_location='cpu')\n"
     ]
    }
   ],
   "source": [
    "from pymilvus.model.hybrid import BGEM3EmbeddingFunction\n",
    "\n",
    "bge_m3_ef = BGEM3EmbeddingFunction(\n",
    "    model_name='BAAI/bge-m3', # Specify the model name\n",
    "    device='cpu', # Specify the device to use, e.g., 'cpu' or 'cuda:0'\n",
    "    use_fp16=False # Specify whether to use fp16. Set to `False` if `device` is `cpu`.\n",
    ")"
   ]
  },
  {
   "cell_type": "code",
   "execution_count": 34,
   "metadata": {},
   "outputs": [
    {
     "name": "stdout",
     "output_type": "stream",
     "text": [
      "Embeddings: {'dense': [array([-0.02505936, -0.00142193,  0.04015467, ..., -0.02094922,\n",
      "        0.02623664,  0.00324104], dtype=float32), array([ 0.00118458,  0.00649292, -0.00735761, ..., -0.01446296,\n",
      "        0.04243682, -0.01794821], dtype=float32), array([ 0.00415284, -0.01014922,  0.00098107, ..., -0.02559662,\n",
      "        0.08084679,  0.00141645], dtype=float32)], 'sparse': <Compressed Sparse Row sparse array of dtype 'float64'\n",
      "\twith 43 stored elements and shape (3, 250002)>}\n",
      "Dense document dim: 1024 (1024,)\n",
      "Sparse document dim: 250002 (250002,)\n"
     ]
    }
   ],
   "source": [
    "docs = [\n",
    "    \"Artificial intelligence was founded as an academic discipline in 1956.\",\n",
    "    \"Alan Turing was the first person to conduct substantial research in AI.\",\n",
    "    \"Born in Maida Vale, London, Turing was raised in southern England.\",\n",
    "]\n",
    "\n",
    "docs_embeddings = bge_m3_ef.encode_documents(docs)\n",
    "\n",
    "print(\"Embeddings:\", docs_embeddings)\n",
    "print(\"Dense document dim:\", bge_m3_ef.dim[\"dense\"], docs_embeddings[\"dense\"][0].shape)\n",
    "print(\"Sparse document dim:\", bge_m3_ef.dim[\"sparse\"], list(docs_embeddings[\"sparse\"])[0].shape)\n"
   ]
  },
  {
   "cell_type": "code",
   "execution_count": 42,
   "metadata": {},
   "outputs": [
    {
     "name": "stdout",
     "output_type": "stream",
     "text": [
      "Embeddings: {'dense': [array([ 0.00648039, -0.00815423, -0.02717063, ..., -0.00380104,\n",
      "        0.04200583, -0.01274776], dtype=float32)], 'sparse': <Compressed Sparse Row sparse array of dtype 'float64'\n",
      "\twith 7 stored elements and shape (1, 250002)>}\n",
      "Dense query dim: 1024 (1024,)\n",
      "Sparse query dim: 250002 (250002,)\n"
     ]
    }
   ],
   "source": [
    "queries = [\"Where was Alan Turing born?\"]\n",
    "\n",
    "query_embeddings = bge_m3_ef.encode_queries(queries)\n",
    "\n",
    "print(\"Embeddings:\", query_embeddings)\n",
    "print(\"Dense query dim:\", bge_m3_ef.dim[\"dense\"], query_embeddings[\"dense\"][0].shape)\n",
    "print(\"Sparse query dim:\", bge_m3_ef.dim[\"sparse\"], list(query_embeddings[\"sparse\"])[0].shape)\n"
   ]
  },
  {
   "cell_type": "code",
   "execution_count": 43,
   "metadata": {},
   "outputs": [],
   "source": [
    "client = MilvusClient(\"milvus_bge_m3.db\")"
   ]
  },
  {
   "cell_type": "code",
   "execution_count": 44,
   "metadata": {},
   "outputs": [],
   "source": [
    "if client.has_collection(collection_name=\"demo_collection\"):\n",
    "    client.drop_collection(collection_name=\"demo_collection\")\n",
    "client.create_collection(\n",
    "        collection_name=\"demo_collection\",\n",
    "        dimension=1024,  # The vectors we will use in this demo has 768 dimensions\n",
    ")\n"
   ]
  },
  {
   "cell_type": "code",
   "execution_count": 45,
   "metadata": {},
   "outputs": [
    {
     "data": {
      "text/plain": [
       "[array([-0.02505936, -0.00142193,  0.04015467, ..., -0.02094922,\n",
       "         0.02623664,  0.00324104], dtype=float32),\n",
       " array([ 0.00118458,  0.00649292, -0.00735761, ..., -0.01446296,\n",
       "         0.04243682, -0.01794821], dtype=float32),\n",
       " array([ 0.00415284, -0.01014922,  0.00098107, ..., -0.02559662,\n",
       "         0.08084679,  0.00141645], dtype=float32)]"
      ]
     },
     "execution_count": 45,
     "metadata": {},
     "output_type": "execute_result"
    }
   ],
   "source": [
    "docs_embeddings[\"dense\"]"
   ]
  },
  {
   "cell_type": "code",
   "execution_count": 46,
   "metadata": {},
   "outputs": [
    {
     "name": "stdout",
     "output_type": "stream",
     "text": [
      "Dim: 768 (1024,)\n",
      "Data has 3 entities, each with fields:  dict_keys(['id', 'vector', 'text', 'subject'])\n",
      "Vector dim: 1024\n"
     ]
    }
   ],
   "source": [
    "\n",
    "vectors = docs_embeddings[\"dense\"]\n",
    "print(\"Dim:\", embedding_fn.dim, vectors[0].shape)  # Dim: 768 (768,)\n",
    "data =[ {\"id\": i, \"vector\": vectors[i], \"text\": docs[i], \"subject\": \"history\"}\n",
    "    for i in range(len(vectors))]\n",
    "\n",
    "print(\"Data has\", len(data), \"entities, each with fields: \", data[0].keys())\n",
    "print(\"Vector dim:\", len(data[0][\"vector\"]))\n"
   ]
  },
  {
   "cell_type": "code",
   "execution_count": 47,
   "metadata": {},
   "outputs": [
    {
     "data": {
      "text/plain": [
       "{'insert_count': 3, 'ids': [0, 1, 2], 'cost': 0}"
      ]
     },
     "execution_count": 47,
     "metadata": {},
     "output_type": "execute_result"
    }
   ],
   "source": [
    "res = client.insert(collection_name=\"demo_collection\", data=data)\n",
    "res"
   ]
  },
  {
   "cell_type": "code",
   "execution_count": 48,
   "metadata": {},
   "outputs": [
    {
     "name": "stdout",
     "output_type": "stream",
     "text": [
      "data: [\"[{'id': 2, 'distance': 0.7207302451133728, 'entity': {'text': 'Born in Maida Vale, London, Turing was raised in southern England.', 'subject': 'history'}}, {'id': 1, 'distance': 0.6383245587348938, 'entity': {'text': 'Alan Turing was the first person to conduct substantial research in AI.', 'subject': 'history'}}]\"] \n"
     ]
    }
   ],
   "source": [
    "res = client.search(\n",
    "    collection_name=\"demo_collection\",  # target collection\n",
    "    data=[query_embeddings['dense'][0]],  # query vectors\n",
    "    limit=2,  # number of returned entities\n",
    "    output_fields=[\"text\", \"subject\"],  # specifies fields to be returned\n",
    ")\n",
    "\n",
    "print(res)\n",
    "\n"
   ]
  },
  {
   "cell_type": "code",
   "execution_count": 49,
   "metadata": {},
   "outputs": [
    {
     "name": "stdout",
     "output_type": "stream",
     "text": [
      "file_name Văn Bản Pháp Luật_p100000-100019.parquet\n",
      "{'insert_count': 20, 'ids': [100000, 100001, 100002, 100003, 100004, 100005, 100006, 100007, 100008, 100009, 100010, 100011, 100012, 100013, 100014, 100015, 100016, 100017, 100018, 100019]}\n",
      "Data inserted successfully!\n"
     ]
    }
   ],
   "source": [
    "import os\n",
    "import pandas as pd\n",
    "\n",
    "# Đường dẫn đến thư mục \"Khoi\"\n",
    "folder_path = 'Khoi'\n",
    "\n",
    "# Danh sách lưu trữ các DataFrame\n",
    "df_list = []\n",
    "\n",
    "# Duyệt qua tất cả các file trong thư mục\n",
    "# for file_name in os.listdir('Khoi'):\n",
    "for file_name in ['Văn Bản Pháp Luật_p100000-100019.parquet']:\n",
    "    # Kiểm tra nếu file có định dạng giống \"Văn Bản Pháp Luật_p*.parquet\"\n",
    "    print(\"file_name\", file_name)\n",
    "    file_path = os.path.join(folder_path, file_name)\n",
    "    \n",
    "    # Đọc file Parquet và thêm vào danh sách DataFrame\n",
    "    file_df = pd.read_parquet(file_path)\n",
    "    \n",
    "    # Thực hiện các chuyển đổi tương tự như bạn đã đề cập\n",
    "    file_df['created_date'] = pd.to_datetime(file_df['created_date'], format='%d/%m/%Y')\n",
    "    file_df['updated_date'] = pd.to_datetime(file_df['updated_date'], format='%d/%m/%Y')\n",
    "    file_df['content_raw'] = file_df['content'].apply(lambda x: x.decode('utf-8') if isinstance(x, bytes) else x)\n",
    "    \n",
    "    # df_list.append(file_df)\n",
    "    \n",
    "    \n",
    "\n",
    "    # connection = create_connection()\n",
    "\n",
    "    # cursor = connection.cursor()\n",
    "\n",
    "    try: \n",
    "        # Chèn dữ liệu từ DataFrame vào PostgreSQL\n",
    "        \n",
    "        data = []\n",
    "        for index, item in file_df.iterrows():\n",
    "            docs= [f\"{item.title}\"]\n",
    "            \n",
    "            docs_embeddings = bge_m3_ef.encode_documents(docs)\n",
    "\n",
    "            vectors = docs_embeddings[\"dense\"]\n",
    "\n",
    "        \n",
    "            data.append({\"id\": item.id, \"vector\": vectors[0], \"text\": docs[0], \"subject\": \"van_ban_phap_luat\"} )\n",
    "        \n",
    "        res = client.insert(collection_name=\"demo_collection\", data=data)\n",
    "        print(res)\n",
    "        \n",
    "        # Xác nhận các thay đổi vào cơ sở dữ liệu\n",
    "        # connection.commit()\n",
    "\n",
    "    except Exception as e:\n",
    "        print(e)\n",
    "\n",
    "    # Đóng kết nối\n",
    "    # cursor.close()\n",
    "    # connection.close()\n",
    "\n",
    "    print(\"Data inserted successfully!\")\n",
    "\n",
    "\n",
    "# # Nối tất cả các DataFrame lại với nhau thành một DataFrame duy nhất\n",
    "# combined_df = pd.concat(df_list, ignore_index=True)\n",
    "\n",
    "# # Hiển thị vài dòng đầu tiên của DataFrame\n",
    "# combined_df.head()"
   ]
  },
  {
   "cell_type": "code",
   "execution_count": 50,
   "metadata": {},
   "outputs": [
    {
     "name": "stdout",
     "output_type": "stream",
     "text": [
      "{'id': 0, 'text': 'Artificial intelligence was founded as an academic discipline in 1956.'}\n",
      "{'id': 1, 'text': 'Alan Turing was the first person to conduct substantial research in AI.'}\n",
      "{'id': 2, 'text': 'Born in Maida Vale, London, Turing was raised in southern England.'}\n",
      "{'id': 100000, 'text': 'Quyết định 720/QĐ-CTN năm 2020 về cho thôi quốc tịch Việt Nam đối với 95 công dân hiện đang cư trú tại Đức do Chủ tịch nước ban hành'}\n",
      "{'id': 100001, 'text': 'Quyết định 719/QĐ-CTN năm 2020 về cho thôi quốc tịch Việt Nam đối với 15 công dân hiện đang cư trú tại Hồng Kông (Trung Quốc) do Chủ tịch nước ban hành'}\n",
      "{'id': 100002, 'text': 'Quyết định 648/QĐ-TTg năm 2020 về phê duyệt nhiệm vụ lập quy hoạch mạng lưới cơ sở y tế thời kỳ 2021-2030, tầm nhìn đến năm 2045 do Thủ tướng Chính phủ ban hành'}\n",
      "{'id': 100003, 'text': 'Quyết định 1000/QĐ-UBND năm 2020 công bố danh mục thủ tục hành chính thuộc phạm vi chức năng quản lý nhà nước của Sở Công thương tỉnh Sơn La'}\n",
      "{'id': 100004, 'text': 'Quyết định 1517/QĐ-UBND năm 2020 về công bố Danh mục và Quy trình nội bộ thủ tục hành chính được sửa đổi, bổ sung thuộc thẩm quyền quản lý của ngành Xây dựng áp dụng tại Ủy ban nhân dân cấp huyện trên địa bàn tỉnh Hà Tĩnh'}\n",
      "{'id': 100005, 'text': 'Quyết định 647/QĐ-TTg năm 2020 về phê duyệt Đề án hợp tác quốc tế về phát triển bền vững kinh tế biển Việt Nam đến 2030 do Thủ tướng Chính phủ ban hành'}\n",
      "{'id': 100006, 'text': 'Quyết định 949/QĐ-BGTVT năm 2020 công bố thủ tục hành chính được sửa đổi, bổ sung lĩnh vực hàng không thuộc phạm vi chức năng quản lý của Bộ Giao thông vận tải'}\n",
      "{'id': 100007, 'text': 'Quyết định 579/QĐ-TCCB về Kế hoạch thi và chỉ tiêu thi nâng ngạch lên chuyên viên, chuyên viên chính năm 2020 do Chánh án Tòa án nhân dân tối cao ban hành'}\n",
      "{'id': 100008, 'text': 'Quyết định 649/QĐ-TTg năm 2020 về phê duyệt chủ trương đầu tư Dự án đầu tư xây dựng tuyến đường bộ ven biển đoạn Hoằng Hóa - Sầm Sơn và đoạn Quảng Xương - Tĩnh Gia, tỉnh Thanh Hóa theo hình thức đối tác công tư, hợp đồng BOT do Thủ tướng Chính phủ ban hành'}\n",
      "{'id': 100009, 'text': 'Quyết định 13/2020/QĐ-UBND bãi bỏ Quyết định 10/2015/QĐ-UBND quy định về chính sách hỗ trợ doanh nghiệp xuất khẩu phần mềm trên địa bàn thành phố Đà Nẵng'}\n",
      "{'id': 100010, 'text': 'Quyết định 854/QĐ-UBND về phê duyệt Kế hoạch phát triển nông nghiệp ứng dụng công nghệ cao, nông nghiệp thông minh trên địa bàn tỉnh Lâm Đồng năm 2020'}\n",
      "{'id': 100011, 'text': 'Quyết định 1079/QĐ-UBND năm 2020 công bố danh mục thủ tục hành chính thực hiện chính sách hỗ trợ người dân gặp khó khăn do đại dịch Covid-19 thuộc lĩnh vực Lao động - Thương binh và Xã hội trên địa bàn tỉnh Đắk Lắk'}\n",
      "{'id': 100012, 'text': 'Quyết định 09/2020/QĐ-UBND về Bảng giá tính thuế tài nguyên trên địa bàn tỉnh Phú Thọ năm 2020'}\n",
      "{'id': 100013, 'text': 'Quyết định 13/2020/QĐ-UBND về phân cấp thẩm quyền cấp, điều chỉnh, thu hồi Giấy phép đủ điều kiện kinh doanh dịch vụ karaoke trên địa bàn tỉnh Nghệ An'}\n",
      "{'id': 100014, 'text': 'Kế hoạch 112/KH-UBND năm 2020 về thực hiện Quyết định 142/QĐ-TTg thực hiện Kết luận 52-KL/TW về tiếp tục thực hiện Nghị quyết về xây dựng đội ngũ trí thức trong thời kỳ đẩy mạnh công nghiệp hóa, hiện đại hóa đất nước do tỉnh Yên Bái ban hành'}\n",
      "{'id': 100015, 'text': 'Quyết định 859/QĐ-UBND về phê duyệt danh mục dịch vụ công trực tuyến và danh mục dịch vụ công của tỉnh Lâm Đồng tích hợp, cung cấp trên Cổng dịch vụ công Quốc gia năm 2020'}\n",
      "{'id': 100016, 'text': 'Kế hoạch 4223/KH-UBND năm 2020 thực hiện Nghị quyết 35/NQ-CP về tăng cường huy động nguồn lực của xã hội đầu tư cho phát triển giáo dục và đào tạo trên địa bàn tỉnh Đắk Lắk giai đoạn 2019-2025'}\n",
      "{'id': 100017, 'text': 'Quyết định 22/2020/QĐ-UBND về tiêu chuẩn, định mức sử dụng máy móc, thiết bị chuyên dùng thuộc lĩnh vực y tế do tỉnh Vĩnh Phúc ban hành'}\n",
      "{'id': 100018, 'text': 'Quyết định 18/2020/QĐ-UBND quy định về mức giá dịch vụ sử dụng đường bộ của các phương tiện giao thông đối với dự án Đường ĐT.768 theo hình thức đối tác công tư, hợp đồng BOT do tỉnh Đồng Nai ban hành'}\n",
      "{'id': 100019, 'text': 'Thông báo 1403/TB-GDĐT-KTKĐCLGD năm 2020 về tuyển thẳng vào lớp 10 trung học phổ thông năm học 2020-2021 do Sở Giáo dục và Đào tạo thành phố Hồ Chí Minh ban hành'}\n"
     ]
    }
   ],
   "source": [
    "\n",
    "res = client.query(\n",
    "    collection_name=\"demo_collection\",  # target collection\n",
    "    filter='',  # number of returned entities\n",
    "    limit=100,\n",
    "    output_fields=[\"id\", 'text'],  # specifies fields to be returned\n",
    "    # sorted=True, #\n",
    ")\n",
    "for item in res:\n",
    "    print(item)"
   ]
  },
  {
   "cell_type": "code",
   "execution_count": 51,
   "metadata": {},
   "outputs": [
    {
     "name": "stdout",
     "output_type": "stream",
     "text": [
      "data: [\"[{'id': 100013, 'distance': 0.6344581246376038, 'entity': {'text': 'Quyết định 13/2020/QĐ-UBND về phân cấp thẩm quyền cấp, điều chỉnh, thu hồi Giấy phép đủ điều kiện kinh doanh dịch vụ karaoke trên địa bàn tỉnh Nghệ An', 'subject': 'van_ban_phap_luat'}}, {'id': 100009, 'distance': 0.608363151550293, 'entity': {'text': 'Quyết định 13/2020/QĐ-UBND bãi bỏ Quyết định 10/2015/QĐ-UBND quy định về chính sách hỗ trợ doanh nghiệp xuất khẩu phần mềm trên địa bàn thành phố Đà Nẵng', 'subject': 'van_ban_phap_luat'}}]\"] \n"
     ]
    }
   ],
   "source": [
    "queries = [\"13/2020/QĐ-UBND\"]\n",
    "\n",
    "query_embeddings = bge_m3_ef.encode_queries(queries)\n",
    "\n",
    "res = client.search(\n",
    "    collection_name=\"demo_collection\",  # target collection\n",
    "    data=[query_embeddings['dense'][0]],  # query vectors\n",
    "    limit=2,  # number of returned entities\n",
    "    output_fields=[\"text\", \"subject\"],  # specifies fields to be returned\n",
    ")\n",
    "\n",
    "print(res)\n",
    "\n"
   ]
  }
 ],
 "metadata": {
  "kernelspec": {
   "display_name": ".venv",
   "language": "python",
   "name": "python3"
  },
  "language_info": {
   "codemirror_mode": {
    "name": "ipython",
    "version": 3
   },
   "file_extension": ".py",
   "mimetype": "text/x-python",
   "name": "python",
   "nbconvert_exporter": "python",
   "pygments_lexer": "ipython3",
   "version": "3.11.2"
  }
 },
 "nbformat": 4,
 "nbformat_minor": 2
}
